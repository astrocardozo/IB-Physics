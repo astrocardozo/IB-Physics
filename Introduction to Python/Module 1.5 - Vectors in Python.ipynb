{
 "cells": [
  {
   "cell_type": "markdown",
   "metadata": {},
   "source": [
    "# Outcomes\n",
    "By the end of this notebook you will be able to..\n",
    "* Read Python code in a Jupyter notebook.\n",
    "* Run Python code in a Jupyter notebook.\n",
    "* Create a vector in Python \n",
    "* Visualize the vectors using the Quiver function\n",
    "* Perform fundamental vector operations"
   ]
  },
  {
   "cell_type": "markdown",
   "metadata": {},
   "source": [
    "Let's get started! We will be using our favorite libraries of the Python ecosystem: NumPy and Matplotlib. We are going to learn about another library named Plotly. Plotly is a visualization tool similar to Matplotlib but with a bit more features.\n",
    "Go ahead and load these by executing the next cell."
   ]
  },
  {
   "cell_type": "code",
   "execution_count": 2,
   "metadata": {},
   "outputs": [],
   "source": [
    "import numpy as np\n",
    "from matplotlib import pyplot as plt\n",
    "%matplotlib inline\n"
   ]
  },
  {
   "cell_type": "markdown",
   "metadata": {},
   "source": [
    "## Vectors\n",
    "\n",
    "### What's a vector?\n",
    "\n",
    "Vectors are everywhere: physics, engineering, mathematics, computer science, video games, and more. Each field's interpretation of what a vector *is* may be different, but  vectors live a similar life in every space.\n",
    "\n",
    "The first episode in the 3Blue1Brown's video series, [_\"Essence of Linear Algebra\"_](https://www.youtube.com/watch?v=fNk_zzaMoSs&t=1s) tells you of three different ideas about vectors [1]:\n",
    "\n",
    "1. For physicists, a vector is an \"arrow\" of a given length (magnitude) and direction. It can represent directional quantities like velocity, force, acceleration.\n",
    "2. For computer scientists, a vector is an ordered list of numbers. It can represent a set of variables or features stored in order.\n",
    "3. For mathematicians, vectors are generic objects that behave a certain way when they are added or scaled:  $\\mathbf{u}+\\mathbf{v}$, $\\alpha\\mathbf{v}$.\n"
   ]
  },
  {
   "cell_type": "markdown",
   "metadata": {},
   "source": [
    "### Visualizing vectors\n",
    "\n",
    "Let's start with the idea of a vector as an \"arrow\" (magnitude plus direction). We visualize a vector by placing this arrow with its tail at the origin of a coordinate system.\n",
    "\n",
    "In the code cell below, we define two vectors a of coordinates $(2, 2)$, we can use a function named `create_quiver` to plot the vector with its tail at the origin."
   ]
  },
  {
   "cell_type": "code",
   "execution_count": 247,
   "metadata": {},
   "outputs": [
    {
     "data": {
      "image/png": "[encoded data removed]",
      "text/plain": [
       "<Figure size 720x720 with 1 Axes>"
      ]
     },
     "metadata": {
      "needs_background": "light"
     },
     "output_type": "display_data"
    }
   ],
   "source": [
    "a = np.array((2,2)) #Create a 2d vector \n",
    "\n",
    "v=np.array([a]) #Define an array v of vectors\n",
    "x, y = [0], [0] #Place the tails of the vectors at origin\n",
    "\n",
    "\n",
    "fig, ax = plt.subplots(figsize = (10,10))\n",
    "ax.quiver(x, y, v[:,0], v[:,1], scale=1,units = 'xy',color=['r'])\n",
    "plt.xlim(0,4)\n",
    "plt.ylim(0,4)\n",
    "plt.xticks(np.arange(0, 4, 1))\n",
    "plt.yticks(np.arange(0, 4, 1))\n",
    "plt.grid(visible= True)\n",
    "plt.tight_layout()\n",
    "plt.show()"
   ]
  },
  {
   "cell_type": "markdown",
   "metadata": {},
   "source": [
    "But changing the position of the tail doesn't change the vector's magnitude or direction, so the vector is the same no matter where we draw it. "
   ]
  },
  {
   "cell_type": "code",
   "execution_count": null,
   "metadata": {},
   "outputs": [],
   "source": [
    "#Create a 2d vector \n",
    "a = np.array((2,2)) \n",
    "b = np.array((2,2))\n",
    "c = np.array((2,2))\n",
    "d = np.array((2,2)) \n",
    "\n",
    "v=np.array([a,b,c,d])   #Define an array v of vectors a,b,c,d\n",
    "x, y = [-2,-4,0,3], [-3,2,0,-1] #Place the tails of the vectors at different locations\n",
    "\n",
    "\n",
    "fig, ax = plt.subplots(figsize = (10,10))\n",
    "ax.quiver(x, y, v[:,0], v[:,1], scale=1,units = 'xy',color=['r'])\n",
    "plt.xlim(-5,5)\n",
    "plt.ylim(-5,5)\n",
    "plt.xticks(np.arange(-5, 5, 1))\n",
    "plt.yticks(np.arange(-5, 5, 1))\n",
    "plt.grid(visible= True)\n",
    "plt.tight_layout()\n",
    "plt.show()"
   ]
  },
  {
   "cell_type": "markdown",
   "metadata": {},
   "source": [
    "In the 2D plane, we can see clearly the connection between the \"arrow\" idea of vector, and the \"list of numbers,\" which in this case represents the coordinates of the arrow head when the tail is at the origin of the coordinate system.\n",
    "\n",
    "The first coordinate designates the horizontal distance between head and tail, and the second coordinate designates the vertical distance between head and tail. We typically will denote horizontal and vertical axes as $x$ and $y$.\n",
    "\n",
    "In three dimensions, $x$ and $y$ are usually denoting the perpendicular axes on the horizontal plane, and the vertical axis is denoted by $z$. A 3D vector thus has three components: $(x, y, z)$."
   ]
  },
  {
   "cell_type": "markdown",
   "metadata": {},
   "source": [
    "### Fundamental vector operations\n",
    "\n",
    "Two operations are the foundation of everything: **vector addition**, and **multiplication by a scalar** (i.e., scaling).\n",
    "\n",
    "Let's first visualize vector addition. Suppose we have two vectors: \n",
    "\n",
    "$$\n",
    "   \\mathbf{a} = \\left[ \\begin{array}{c} 2 \\\\ 1  \\end{array} \\right], \\quad  \n",
    "   \\mathbf{b} = \\left[ \\begin{array}{c} 1 \\\\ 3  \\end{array} \\right] \n",
    "$$\n",
    "\n",
    "We can visualize vector addition as follows: draw vector $\\mathbf{a}$ with its tail at the origin; then draw vector $\\mathbf{b}$ with its tail on the head of $\\mathbf{a}$. If you now draw a vector from the origin to the head of $\\mathbf{b}$, that vector is $\\mathbf{a} + \\mathbf{b}$.\n",
    "\n",
    "With our helper quiver function for plotting 2D vectors, it looks like this:"
   ]
  },
  {
   "cell_type": "code",
   "execution_count": null,
   "metadata": {},
   "outputs": [],
   "source": [
    "a = np.array((2,1))\n",
    "b = np.array((1,3))\n",
    "print(a+b)\n",
    "\n",
    "v=np.array([a,b,a+b]) #Define an array v of vectors a,b & a+b\n",
    "x, y = [0,2,0], [0,1,0] #Place the tails of the vectors\n",
    "\n",
    "fig, ax = plt.subplots(figsize = (10,10))\n",
    "ax.quiver(x, y, v[:,0], v[:,1], scale=1, units = 'xy',color=['r'])\n",
    "plt.xticks(np.arange(-5, 5, 1))\n",
    "plt.yticks(np.arange(-5, 5, 1))\n",
    "plt.grid(visible= True)\n",
    "plt.tight_layout()\n",
    "plt.show()"
   ]
  },
  {
   "cell_type": "markdown",
   "metadata": {},
   "source": [
    "In this visualization of vector addition, the head of $\\mathbf{a} + \\mathbf{b}$ ends up at the coordinates  resulting from adding the tail-to-head horizontal and vertical distances of $\\mathbf{a}$ and $\\mathbf{b}$. In other words, from adding the respective coordinates:\n",
    "\n",
    "$$\n",
    "   \\left[ \\begin{array}{c} 2 \\\\ 1  \\end{array} \\right] +  \n",
    "   \\left[ \\begin{array}{c} 1 \\\\ 3  \\end{array} \\right] =\n",
    "   \\left[ \\begin{array}{c} -2+1 \\\\ 1+3  \\end{array} \\right]\n",
    "$$\n"
   ]
  },
  {
   "cell_type": "markdown",
   "metadata": {},
   "source": [
    "##### Exercise:\n",
    "\n",
    "In a the code cell below, edit the code to create the two vectors shown below:\n",
    "$$\n",
    "   \\mathbf{a} = \\left[ \\begin{array}{c} 2 \\\\ 0  \\end{array} \\right], \\quad  \n",
    "   \\mathbf{b} = \\left[ \\begin{array}{c} 0 \\\\ 3  \\end{array} \\right] \n",
    "$$\n",
    "Next, create an array with the sum of the two vectors:\n",
    "\n",
    "$$\n",
    "  \\mathbf{ab} = \\left[ \\begin{array}{c} 2 \\\\ 0  \\end{array} \\right] +\n",
    "  \\left[ \\begin{array}{c} 0 \\\\ 3  \\end{array} \\right] =\n",
    "  \\left[ \\begin{array}{c} 2+0 \\\\ 3+0  \\end{array} \\right] =\n",
    "  \\left[ \\begin{array}{c} 2 \\\\ 3  \\end{array} \\right] \n",
    "$$\n",
    "Finally, place the head of vector $\\mathbf{a}$ to the tail of vector $\\mathbf{b}$."
   ]
  },
  {
   "cell_type": "code",
   "execution_count": null,
   "metadata": {},
   "outputs": [],
   "source": [
    "# Fill in the appropriate code in place of the ??\n",
    "\n",
    "a = np.array((??))\n",
    "b = np.array((??))\n",
    "ab = ??\n",
    "\n",
    "v=np.array([a,b,ab]) #Define an array v of vectors a,b & ab\n",
    "x, y = [0,2,0], [0,0,0] #Place the tails of the vectors\n",
    "\n",
    "fig, ax = plt.subplots(figsize = (10,10))\n",
    "ax.quiver(x, y, v[:,0], v[:,1], scale=1, units = 'xy',color=['r','b','g'])\n",
    "plt.xticks(np.arange(-5, 5, 1))\n",
    "plt.yticks(np.arange(-5, 5, 1))\n",
    "plt.grid(visible= True)\n",
    "plt.tight_layout()\n",
    "plt.show()"
   ]
  },
  {
   "cell_type": "markdown",
   "metadata": {},
   "source": [
    "Let's now look at multiplication by a scalar: essentially, the length of the vector is *scaled* by the scalar factor. If you multiply a vector by $2$, its length (magnitude) doubles. \n",
    "\n",
    "For example, if we scale by $2$ the vector $\\mathbf{c} = \\left[ \\begin{array}{c} 2 \\\\ 1  \\end{array} \\right]$, it looks like this:"
   ]
  },
  {
   "cell_type": "code",
   "execution_count": null,
   "metadata": {},
   "outputs": [],
   "source": [
    "# Vector scaling\n",
    "c = np.array((2,1))\n",
    "d = 2*c\n",
    "\n",
    "v = np.array([c,d])\n",
    "x,y = [0,0],[0,0]\n",
    "\n",
    "\n",
    "fig, ax = plt.subplots(figsize = (10,10))\n",
    "ax.quiver(x, y, v[:,0], v[:,1], scale=1, units = 'xy',color=['r','b'])\n",
    "plt.xticks(np.arange(-5, 5, 1))\n",
    "plt.yticks(np.arange(-5, 5, 1))\n",
    "plt.grid(visible= True)\n",
    "plt.tight_layout()\n",
    "plt.show()"
   ]
  },
  {
   "cell_type": "markdown",
   "metadata": {},
   "source": [
    "The head of the vector $2\\mathbf{c}$ ends up at the coordinates resulting from scaling the tail-to-head horizontal and vertical distances of $\\mathbf{c}$:\n",
    "\n",
    "$$\n",
    "  \\mathbf{d} = 2\\cdot\\left[ \\begin{array}{c} 2 \\\\ 1  \\end{array} \\right] =\n",
    "  \\left[ \\begin{array}{c} 2\\cdot 2 \\\\ 2\\cdot 1  \\end{array} \\right] =\n",
    "  \\left[ \\begin{array}{c}  4 \\\\ 2  \\end{array} \\right]\n",
    "$$"
   ]
  },
  {
   "cell_type": "markdown",
   "metadata": {},
   "source": [
    "##### Exercise:\n",
    "\n",
    "_What is the effect of multiplying a vector by a negative scalar?_ Try it! in the cell below, multiply the vector $\\mathbf{c}$ by a negative scalar and visualize both vectors."
   ]
  },
  {
   "cell_type": "markdown",
   "metadata": {},
   "source": [
    "### Basis vectors\n",
    "\n",
    "With the ideas of vector addition and multiplication by a scalar fresh in your mind, now imagine this. Any horizontal vector (i.e., having zero as its second component) can be scaled to have length $1$. \n",
    "\n",
    "For example, the vector $\\,\\mathbf{u} = \\left[ \\begin{array}{c} u \\\\ 0  \\end{array} \\right]$ scaled by $1/u$ becomes $\\left[ \\begin{array}{c} 1 \\\\ 0  \\end{array} \\right]$.\n",
    "\n",
    "Similarly, any vertical vector (having zero as its first component) can be scaled to have length $1$.\n",
    "\n",
    "Going the opposite way, \n",
    "- scaling the vector $\\,\\mathbf{i}=\\left[ \\begin{array}{c} 1 \\\\ 0  \\end{array} \\right]$ can give us all possible horizontal vectors, and \n",
    "- scaling the vector $\\,\\mathbf{j}=\\left[ \\begin{array}{c} 0 \\\\ 1  \\end{array} \\right]$ can give us all possible vertical vectors. \n",
    "\n",
    "Since every vector is the sum of a horizontal and a vertical one, it means we can generate *all vectors* by adding scaled versions of $\\mathbf{i}$ and $\\mathbf{j}$. That's why they are called **basis vectors**.\n",
    "\n",
    "For any vector, its components are the scalars we need to multiply the basis vectors by to generate it. For example:\n",
    "\n",
    "$$\n",
    " \\left[ \\begin{array}{c} 3 \\\\ 2  \\end{array} \\right] =\n",
    " 3\\cdot\\left[ \\begin{array}{c} 1 \\\\ 0  \\end{array} \\right] +\n",
    " 2\\cdot\\left[ \\begin{array}{c} 0 \\\\ 1  \\end{array} \\right] =\n",
    " 3\\,\\mathbf{i} + 2\\,\\mathbf{j}\n",
    "$$\n",
    "\n",
    "Let's visualize this using our helper function."
   ]
  },
  {
   "cell_type": "code",
   "execution_count": null,
   "metadata": {},
   "outputs": [],
   "source": [
    "# Basis vector\n",
    "i = np.array((1,0))\n",
    "j = np.array((0,1))\n",
    "\n",
    "c = 3*i +2*j\n",
    "vectors = np.array([i,j,3*i,2*j,c])\n",
    "x,y = [0,0,0,0,0],[0,0,0,0,0]\n",
    "\n",
    "print(vectors)\n",
    "\n",
    "fig, ax = plt.subplots(figsize = (10,10))\n",
    "ax.quiver(x, y, vectors[:,0], vectors[:,1], scale=1, units = 'xy',color=['r','b','g','c','m'])\n",
    "plt.xticks(np.arange(-5, 5, 1))\n",
    "plt.yticks(np.arange(-5, 5, 1))\n",
    "plt.grid(visible= True)\n",
    "plt.tight_layout()\n",
    "plt.show()\n"
   ]
  },
  {
   "cell_type": "markdown",
   "metadata": {},
   "source": [
    "# Vectors with Numpy\n",
    "\n",
    "Now that we have an idea of how Numpy arrays can be used to visualize vectors, lets take a look at what functions Numpy has that can help us streamline the opertations we preform on our vectors. Let's take the vectors $\\mathbf{a}$, $\\mathbf{b}$, and $\\mathbf{ab}$ from our previous example and see how we can find the angle between two vectors using a Numpy function called `linalg.norm`. \n",
    "\n",
    "First, let's take a look at the angle between vectors $\\mathbf{a}$ & $\\mathbf{b}$. Run the code below."
   ]
  },
  {
   "cell_type": "code",
   "execution_count": 4,
   "metadata": {},
   "outputs": [
    {
     "name": "stdout",
     "output_type": "stream",
     "text": [
      "Theta = 90.0 degrees\n"
     ]
    }
   ],
   "source": [
    "#Define an array v of vectors a,b\n",
    "a = np.array((2,0))\n",
    "b = np.array((0,3))\n",
    "\n",
    "# Define and calculate the unit vectors for a and b\n",
    "a_unit_vector = a/ np.linalg.norm(a)\n",
    "b_unit_vector = b/ np.linalg.norm(b)\n",
    "\n",
    "# Calculate angle theta and convert to degrees\n",
    "theta = np.degrees(np.arccos(np.dot(a_unit_vector,b_unit_vector)))\n",
    "\n",
    "print('Theta =',theta,'degrees')\n"
   ]
  },
  {
   "cell_type": "markdown",
   "metadata": {},
   "source": [
    "# Exercise\n",
    "\n",
    "In the code cell below, fill in the appropriate code to find the angle bewteen the vectors $\\mathbf{a}$, and $\\mathbf{ab}$"
   ]
  },
  {
   "cell_type": "code",
   "execution_count": 330,
   "metadata": {},
   "outputs": [
    {
     "name": "stdout",
     "output_type": "stream",
     "text": [
      "56.309932474020215\n"
     ]
    }
   ],
   "source": [
    "# Define an array for a+b\n",
    "ab = np.array(a + b)\n",
    "\n",
    "# Calculate angle theta and convert to degrees\n",
    "alpha = np.degrees((np.arccos(np.dot(??, ??))))\n",
    "\n",
    "print('Alpha =' ,alpha,'degree')"
   ]
  },
  {
   "cell_type": "markdown",
   "metadata": {},
   "source": [
    "# Discussion Questions\n",
    "\n",
    "Fill in your resposes below.\n",
    "\n",
    "1. Question #1 - How could the code used in the module be useful for visualizing vectors in physics?\n",
    "2. Question #2 - How would you adapt this module for use with your physics labs?\n",
    "3. Question #3 - What do you want to learn next?"
   ]
  },
  {
   "cell_type": "markdown",
   "metadata": {},
   "source": [
    "[Add your answers here]"
   ]
  },
  {
   "cell_type": "markdown",
   "metadata": {},
   "source": [
    "Code in this workbook were inspired by Dr. Lorena Barba and her researchers at the George Washington University"
   ]
  },
  {
   "cell_type": "markdown",
   "metadata": {},
   "source": []
  }
 ],
 "metadata": {
  "kernelspec": {
   "display_name": "Python 3.7.6 ('base')",
   "language": "python",
   "name": "python3"
  },
  "language_info": {
   "codemirror_mode": {
    "name": "ipython",
    "version": 3
   },
   "file_extension": ".py",
   "mimetype": "text/x-python",
   "name": "python",
   "nbconvert_exporter": "python",
   "pygments_lexer": "ipython3",
   "version": "3.7.6"
  },
  "orig_nbformat": 4,
  "vscode": {
   "interpreter": {
    "hash": "251d706469fcb9e49b5983007650dd7661e3383df7865dfc6d03a1cc473def10"
   }
  }
 },
 "nbformat": 4,
 "nbformat_minor": 2
}
