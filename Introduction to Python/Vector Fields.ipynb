{
 "cells": [
  {
   "cell_type": "markdown",
   "metadata": {},
   "source": [
    "# Outcomes\n",
    "By the end of this notebook you will be able to..\n",
    "* Create a vector field in Python\n",
    "* Create a 3D vector in Python\n",
    "* Visualize data in 3D using Plotly"
   ]
  },
  {
   "cell_type": "markdown",
   "metadata": {},
   "source": [
    "In the previous module, we learned how to create an array of vectors and visualize them using the `quiver` function. We can use the `quiver` fucntion to model vector fields similar to the ones discussed in class. To do this we will need to load our favorite libraries."
   ]
  },
  {
   "cell_type": "code",
   "execution_count": null,
   "metadata": {},
   "outputs": [],
   "source": [
    "import numpy as np\n",
    "import matplotlib.pyplot as plt\n",
    "from matplotlib import cm\n",
    "from mpl_toolkits.mplot3d import Axes3D\n",
    "\n",
    "%matplotlib notebook\n"
   ]
  },
  {
   "cell_type": "markdown",
   "metadata": {},
   "source": [
    "First, lets create a set of data points in both the $x$ and $y$ directions to combine them together to create a grid of points to plot our vectors to. "
   ]
  },
  {
   "cell_type": "code",
   "execution_count": null,
   "metadata": {},
   "outputs": [],
   "source": [
    "x,y = np.meshgrid(np.linspace(-10,10,10),np.linspace(-10,10,10))"
   ]
  },
  {
   "cell_type": "markdown",
   "metadata": {},
   "source": [
    "Next, we will define our vectors u and v using the 2D array of number we just created. Will then plot these vectors across our xy plane. Notice that the magnitude of the vector corresponds with the magnitude of the grid we defined. Additionally, if we look at the direction of the vector, these indicate the sign of the x and y points along our grid.\n",
    "\n",
    "Use the pan/zoom feature beneath the figure top move freely throughout our grid."
   ]
  },
  {
   "cell_type": "code",
   "execution_count": null,
   "metadata": {},
   "outputs": [],
   "source": [
    "u = x; v = y\n",
    "\n",
    "fig = plt.figure() \n",
    "ax = fig.subplots()\n",
    "q = ax.quiver(x,y,u,v)\n",
    "\n",
    "plt.show()"
   ]
  },
  {
   "cell_type": "markdown",
   "metadata": {},
   "source": [
    "Notice we can make the feild as dense as we wish by simply changing the number of interations within our `linspace` function."
   ]
  },
  {
   "cell_type": "code",
   "execution_count": null,
   "metadata": {},
   "outputs": [],
   "source": [
    "x,y = np.meshgrid(np.linspace(-10,10,30),np.linspace(-10,10,30))\n",
    "u = x; v = y\n",
    "\n",
    "fig = plt.figure() \n",
    "ax = fig.subplots()\n",
    "q = ax.quiver(x,y,u,v)\n",
    "\n",
    "plt.show()"
   ]
  },
  {
   "cell_type": "code",
   "execution_count": null,
   "metadata": {},
   "outputs": [],
   "source": [
    "r_hat = np.linspace(0.3,1,3)\n",
    "theta_hat = np.linspace(0,np.pi,12)\n",
    "phi_hat = np.linspace(-np.pi,np.pi,12)\n",
    "r,theta,phi = np.meshgrid(r_hat,theta_hat,phi_hat)\n",
    "\n",
    "\n",
    "eps0 = 8.99E-12\n",
    "q = 1E-19\n",
    "E_r = q/(4*np.pi*eps0*r**2)\n",
    "E_theta = 0\n",
    "E_phi = 0\n",
    "\n",
    "\n",
    "x = r*np.sin(theta)*np.cos(phi)\n",
    "y = r*np.sin(theta)*np.sin(phi)\n",
    "z = r*np.cos(theta)\n",
    "\n",
    "E_x = E_r*np.sin(theta)*np.cos(phi) + E_theta*np.cos(theta)*np.cos(phi)-E_phi*np.sin(phi)\n",
    "E_y = E_r*np.sin(theta)*np.sin(phi) + E_theta*np.cos(theta)*np.sin(phi)-E_phi*np.cos(phi)\n",
    "E_z = E_r*np.cos(theta)-E_theta*np.sin(theta)\n",
    "\n",
    "fig = plt.figure() \n",
    "ax = fig.add_subplot(111)\n",
    "ax.quiver(x,y,E_x,E_y, normalize = True, length =0.2)\n",
    "\n",
    "plt.show()"
   ]
  },
  {
   "cell_type": "code",
   "execution_count": null,
   "metadata": {},
   "outputs": [],
   "source": [
    "r_hat = np.linspace(0.3,1,3)\n",
    "theta_hat = np.linspace(0,np.pi,12)\n",
    "phi_hat = np.linspace(-np.pi,np.pi,12)\n",
    "r,theta,phi = np.meshgrid(r_hat,theta_hat,phi_hat)\n",
    "\n",
    "\n",
    "eps0 = 8.99E-12\n",
    "q = 1E-19\n",
    "E_r = q/(4*np.pi*eps0*r**2)\n",
    "E_theta = 0\n",
    "E_phi = 0\n",
    "\n",
    "\n",
    "x = r*np.sin(theta)*np.cos(phi)\n",
    "y = r*np.sin(theta)*np.sin(phi)\n",
    "z = r*np.cos(theta)\n",
    "\n",
    "E_x = E_r*np.sin(theta)*np.cos(phi) + E_theta*np.cos(theta)*np.cos(phi)-E_phi*np.sin(phi)\n",
    "E_y = E_r*np.sin(theta)*np.sin(phi) + E_theta*np.cos(theta)*np.sin(phi)-E_phi*np.cos(phi)\n",
    "E_z = E_r*np.cos(theta)-E_theta*np.sin(theta)\n",
    "\n",
    "fig = plt.figure() \n",
    "ax = fig.add_subplot(111,projection = '3d')\n",
    "ax.quiver(x,y,z,E_x,E_y,E_z, normalize = True, length =0.2)\n",
    "\n",
    "plt.show()"
   ]
  },
  {
   "cell_type": "code",
   "execution_count": null,
   "metadata": {},
   "outputs": [],
   "source": [
    "X= np.linspace(-5,5,20)\n",
    "Y= np.linspace(-5,5,10)\n",
    "X,Y= np.meshgrid(X, Y)\n",
    "k = 9E9\n",
    "pointcharge = {'q':3,'x':0,'y':0}\n",
    "\n",
    "\n",
    "def E(xfeild,yfeild):\n",
    "    q = pointcharge['q']\n",
    "    xcharge = pointcharge['x']\n",
    "    ycharge = pointcharge['y']\n",
    "    r = np.sqrt((xfeild-xcharge)**2 + (yfeild-ycharge)**2)\n",
    "    return (xfeild/r,yfeild/r)\n",
    "\n",
    "def E_dir(x,y):\n",
    "    #direction field\n",
    "    Ex,Ey=E(x,y)\n",
    "    n= np.sqrt(Ex**2+Ey**2)\n",
    "    return [Ex/n, Ey/n]\n",
    "\n",
    "Ex,Ey = E(X,Y)\n",
    "Exdir,Eydir = E_dir(X,Y)\n",
    "EE= np.sqrt(Ex**2+Ex**2)\n",
    "\n",
    "fig = plt.figure() \n",
    "ax = fig.subplots()\n",
    "Q  = ax.quiver(X,Y,Exdir,Eydir,EE,cmap='viridis')\n",
    "plt.show()"
   ]
  },
  {
   "cell_type": "code",
   "execution_count": null,
   "metadata": {},
   "outputs": [],
   "source": []
  }
 ],
 "metadata": {
  "kernelspec": {
   "display_name": "Python 3",
   "language": "python",
   "name": "python3"
  },
  "language_info": {
   "codemirror_mode": {
    "name": "ipython",
    "version": 3
   },
   "file_extension": ".py",
   "mimetype": "text/x-python",
   "name": "python",
   "nbconvert_exporter": "python",
   "pygments_lexer": "ipython3",
   "version": "3.7.6"
  },
  "vscode": {
   "interpreter": {
    "hash": "251d706469fcb9e49b5983007650dd7661e3383df7865dfc6d03a1cc473def10"
   }
  }
 },
 "nbformat": 4,
 "nbformat_minor": 4
}
