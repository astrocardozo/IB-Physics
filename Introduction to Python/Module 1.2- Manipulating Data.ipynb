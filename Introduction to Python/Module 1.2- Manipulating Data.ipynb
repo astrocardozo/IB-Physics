{
 "cells": [
  {
   "cell_type": "markdown",
   "metadata": {
    "id": "nF82LhmsnK-S"
   },
   "source": [
    "# Outcomes\n",
    "\n",
    "By the end of this notebook, you will be able to...\n",
    "* Calculate statistical features of a data set in Python.\n",
    "* Produce new data sets from an existing data set in Python.\n",
    "* Add a new data set to a database.\n",
    "* Use basic mathematical operations in Python.\n",
    "* Use existing functions in Python."
   ]
  },
  {
   "cell_type": "markdown",
   "metadata": {
    "id": "VXjg7DZmn3Ws"
   },
   "source": [
    "# Read in our Data\n",
    "\n",
    "First let's import some data. This code cell is a copy-paste of what we did in CIT 1.1, with the URL changed to https://docs.google.com/spreadsheets/d/1Z4pTRxwg1ZCAcaN5DNRuL4oLCR1MsD29gHv8toSZBKY/edit?usp=sharing, where we have some position, velocity, and acceleration data for a 500-gram cart going up and down a ramp inclined by $6^\\circ$.\n",
    "\n"
   ]
  },
  {
   "cell_type": "code",
   "execution_count": null,
   "metadata": {
    "id": "Cywh--HMnE5M"
   },
   "outputs": [],
   "source": [
    "import pandas as pd\n",
    "import matplotlib.pyplot as plt\n",
    "from vpython import *\n",
    "\n",
    "#Import database\n",
    "database = pd.read_excel(\"https://docs.google.com/spreadsheets/d/1Z4pTRxwg1ZCAcaN5DNRuL4oLCR1MsD29gHv8toSZBKY/export\")\n",
    "\n",
    "#Plot position data as a function of time and save the figure\n",
    "database.plot.scatter('time','position')\n",
    "plt.xlabel('Time[s]')\n",
    "plt.ylabel('Position[m]')\n",
    "plt.title(\"Position vs Time\")\n",
    "plt.savefig(\"Position_Time_Plot.jpg\",dpi=800)\n",
    "\n",
    "#Plot velocity data as a function of time and save the figure\n",
    "database.plot.scatter('time','velocity')\n",
    "plt.xlabel('Time[s]')\n",
    "plt.ylabel('Velocity[$m/s$]')\n",
    "plt.title(\"Velocity vs Time\")\n",
    "plt.savefig(\"Velocity_Time_Plot.jpg\",dpi=800)\n",
    "\n",
    "#Plot velocity data as a function of time and save the figure\n",
    "database.plot.scatter('time','acceleration')\n",
    "plt.xlabel('Time[s]')\n",
    "plt.ylabel('Acceleration[$m/s^2$]')\n",
    "plt.title(\"Acceleration vs Time\")\n",
    "plt.savefig(\"Acceleration_Time_Plot.jpg\",dpi=800)\n",
    "\n",
    "#Show the plots we just made\n",
    "plt.show()"
   ]
  },
  {
   "cell_type": "markdown",
   "metadata": {
    "id": "jasC6FT3oVOo"
   },
   "source": [
    "# Getting statistics of your data\n",
    "\n",
    "You're probably accustomed to using Excel to calculate various statistics (average, standard deviation, etc.) of lab data. We can perform all these operations using the `numpy` library, which we'll import in the code cell below. \n",
    "\n",
    "The code cell below currently prints the average of our database's acceleration values using the `np.average()` function. The function accepts an array of numbers as an input and outputs the average of those numbers. Add code to use each of the following functions with our acceleration values as an input. Run the code after each addition.\n",
    "\n",
    "1. `np.std()` This calculates the standard deviation. \n",
    "2. `np.max()` This identifies the maximum value.\n",
    "3. `np.min()` This identifies the minimum value. \n",
    "4. How might you set up a line of code to calculate the ratio of the minimum value to the maximum value (min / max)?\n",
    "5. How might you set up a line of code to calcualte the percent deviation (standard deviation / average * 100)?\n",
    "6. How could you use these statistics in a lab activity to help students evaluate whether the acceleration of the cart was constant?"
   ]
  },
  {
   "cell_type": "code",
   "execution_count": null,
   "metadata": {
    "id": "-ie_uSNUo234"
   },
   "outputs": [],
   "source": [
    "import numpy as np\n",
    "print( np.average(database['acceleration']) )\n"
   ]
  },
  {
   "cell_type": "markdown",
   "metadata": {
    "id": "-67-uSXYpy9V"
   },
   "source": [
    "# Generating New Data\n",
    "\n",
    "Often we need to caclulate new information from an existing data set. For example, our position data begins at an arbitrary point along the track. Suppose we wanted to **offset** the position data by the initial position of $0.039$. Python can take care of this in one line of code: If we enter `database['displacement'] = database['position']-number`, then two things happen:\n",
    "1. Python takes each element in the array `database['position']` and **subtracts** `number` from it.\n",
    "2. Python **stores** these offset values in a **new array** called `database['displacement']`.\n",
    "\n",
    "We've implemented this process in the code cell below. Add a `print()` function to line 2 to show the contents of the new array `database['displacement']`. Did the offset work? Add a command to line 3 to plot `database['displacement']` versus `database['time']` to see."
   ]
  },
  {
   "cell_type": "code",
   "execution_count": null,
   "metadata": {
    "id": "ohNlg1nEp0sM"
   },
   "outputs": [],
   "source": [
    "database['displacement'] = database['position']-0.039"
   ]
  },
  {
   "cell_type": "markdown",
   "metadata": {
    "id": "lBTnDTz93QGJ"
   },
   "source": [
    "Now let's try making more arrays to help us explore what's going on in this experiment. Add code to the code cell above to carry out each of the following. You can add new lines to the code cell with the Enter key, just like in a document.\n",
    "\n",
    "1. Calculate the **kinetic energy** of the cart ($K = \\frac{1}{2} m v^2$). You can square the velocity data by using `database['velocity']**2`. Note that `**` is Python's way of raising a number to a power. You'll also need the mutiplication operator `*` and the division operator `/`. Store these kinetic energy values in a new array called `database['kinetic energy']`. Make a graph of kinetic energy versus time.\n",
    "2. Calculate the **height** of the cart by multiplying the displacement array times the sine of the ramp angle. (You can access the sine function using `np.sin(angle)`, with `angle` replaced by the ramp angle in radians.  Store these kinetic energy values in a new array called `database['height']`. Make a graph of the height versus time.\n",
    "3. Calculate the **potential energy** of the cart ($U = mgh$). Store these potential energy values in a new array called `database['potential energy']`. Make a graph of the potential energy versus time.\n",
    "4.  Now calculate and graph the total energy. What do you notice about the total energy when comparing it to the kinetic and potential energy?\n",
    "5. You could accomplish all of these tasks in a spreadsheet. In what ways do you think it is easier to carry out these tasks in Python? In what ways do you find it more challenging?"
   ]
  },
  {
   "cell_type": "markdown",
   "metadata": {
    "id": "jastOcFTZt69"
   },
   "source": [
    "[Add your answers here]"
   ]
  },
  {
   "cell_type": "markdown",
   "metadata": {
    "id": "LCVWP8iQKzc8"
   },
   "source": [
    "# References\n",
    "\n",
    "This notebook is based on Brian Lane's [LetsCodePhysics tutorials](https://www.youtube.com/c/LetsCodePhysics/featured) and Adam LaMee's [CODINGinK12 tutorials](https://adamlamee.github.io/CODINGinK12/)"
   ]
  }
 ],
 "metadata": {
  "colab": {
   "collapsed_sections": [],
   "name": "Module 1.2- Manipulating Data.ipynb",
   "provenance": []
  },
  "kernelspec": {
   "display_name": "Python 3.7.6 ('base')",
   "language": "python",
   "name": "python3"
  },
  "language_info": {
   "codemirror_mode": {
    "name": "ipython",
    "version": 3
   },
   "file_extension": ".py",
   "mimetype": "text/x-python",
   "name": "python",
   "nbconvert_exporter": "python",
   "pygments_lexer": "ipython3",
   "version": "3.7.6"
  },
  "vscode": {
   "interpreter": {
    "hash": "251d706469fcb9e49b5983007650dd7661e3383df7865dfc6d03a1cc473def10"
   }
  }
 },
 "nbformat": 4,
 "nbformat_minor": 1
}
