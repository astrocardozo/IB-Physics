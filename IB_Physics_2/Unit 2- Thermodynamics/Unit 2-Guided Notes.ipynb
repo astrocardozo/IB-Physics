{
 "cells": [
  {
   "cell_type": "code",
   "execution_count": 1,
   "metadata": {},
   "outputs": [],
   "source": [
    "import numpy as np\n",
    "import matplotlib.pyplot as plt\n",
    "import pandas as pd"
   ]
  },
  {
   "cell_type": "code",
   "execution_count": 2,
   "metadata": {},
   "outputs": [],
   "source": [
    "def v_rms(k,T,m):\n",
    "    v_rms = np.sqrt((3*k*T)/m)\n",
    "    return v_rms\n",
    "\n",
    "k = 1.38E-23\n",
    "\n"
   ]
  },
  {
   "cell_type": "code",
   "execution_count": 17,
   "metadata": {},
   "outputs": [
    {
     "data": {
      "text/plain": [
       "Text(0.5, 0, 'Velocity')"
      ]
     },
     "execution_count": 17,
     "metadata": {},
     "output_type": "execute_result"
    },
    {
     "data": {
      "image/png": "[encoded data removed]",
      "text/plain": [
       "<Figure size 432x288 with 1 Axes>"
      ]
     },
     "metadata": {
      "needs_background": "light"
     },
     "output_type": "display_data"
    }
   ],
   "source": [
    "def f(m,k,T,v):\n",
    "    f = (4/np.sqrt(np.pi))*((m/(2*np.pi*k*T))**3/2)*v**2*np.exp((-m*v**2)/2*k*T)\n",
    "    return f\n",
    "\n",
    "k = 1.38E-23\n",
    "m = 5.31E-23\n",
    "T = 300\n",
    "v = np.linspace(0,1200,100)\n",
    "y = f(m,k,T,v)\n",
    "plt.scatter(v,y)\n",
    "plt.ylabel('Probability')\n",
    "plt.xlabel('Velocity')"
   ]
  },
  {
   "cell_type": "code",
   "execution_count": null,
   "metadata": {},
   "outputs": [],
   "source": [
    "def f(m,k,T,v):\n",
    "    f = (4/np.sqrt(np.pi))*((m/(2*np.pi*k*T))**3/2)*v**2*np.exp((-m*v**2)/2*k*T)\n",
    "    return f\n",
    "\n",
    "k = 1.38E-23\n",
    "m = 5.31E-23\n",
    "T = 300\n",
    "v = np.linspace(0,1200,100)\n",
    "y = f(m,k,T,v)\n",
    "plt.scatter(v,y)\n",
    "plt.ylabel('Probability')\n",
    "plt.xlabel('Velocity')"
   ]
  }
 ],
 "metadata": {
  "interpreter": {
   "hash": "251d706469fcb9e49b5983007650dd7661e3383df7865dfc6d03a1cc473def10"
  },
  "kernelspec": {
   "display_name": "Python 3.7.6 ('base')",
   "language": "python",
   "name": "python3"
  },
  "language_info": {
   "codemirror_mode": {
    "name": "ipython",
    "version": 3
   },
   "file_extension": ".py",
   "mimetype": "text/x-python",
   "name": "python",
   "nbconvert_exporter": "python",
   "pygments_lexer": "ipython3",
   "version": "3.7.6"
  },
  "orig_nbformat": 4
 },
 "nbformat": 4,
 "nbformat_minor": 2
}
