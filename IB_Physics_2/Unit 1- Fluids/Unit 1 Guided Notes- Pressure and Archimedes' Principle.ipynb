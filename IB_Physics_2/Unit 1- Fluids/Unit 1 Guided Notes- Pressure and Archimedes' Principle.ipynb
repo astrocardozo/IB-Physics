{
 "cells": [
  {
   "cell_type": "markdown",
   "metadata": {},
   "source": [
    "# Pressure and Forces\n",
    "\n",
    "* Pressure is the force per unit perpendicular area over which the force is applied. In equation form, pressure is defined as $P=F/A$\n",
    "* The SI unit of pressure is pascal and 1 Pa =1 N/m\n",
    "* 1 atm=1.01 x 10 Pa\n",
    "* Pressure is a scalar quantity \n",
    "* Pressure is the weight of the fluid $mg$ divided by the area A supporting it (the area of the bottom of the container): $P=mg/A$\n",
    "* Pressure is force per unit area. \n",
    "* Newton's third law still applies  \n",
    "* All portions of the fluid must be in static equilibrium\n",
    "* All points at the same depth must be at the same pressure\n",
    "* The pressure P at a depth h below the surface of a liquid open to the atmosphere is greater than atmospheric pressure by the amount $\\rho gh$\n",
    "\n",
    "\n",
    "\n",
    "\n",
    "\n",
    "\n"
   ]
  },
  {
   "cell_type": "code",
   "execution_count": null,
   "metadata": {},
   "outputs": [],
   "source": [
    "import numpy as np  \n",
    "import matplotlib.pyplot as plt\n",
    "from matplotlib import cm \n",
    "import pandas as pd\n",
    "\n",
    "%matplotlib notebook"
   ]
  },
  {
   "cell_type": "markdown",
   "metadata": {},
   "source": []
  },
  {
   "cell_type": "code",
   "execution_count": null,
   "metadata": {},
   "outputs": [],
   "source": [
    "def Pressure(F,A):\n",
    "    P = F/A\n",
    "    return P   \n",
    "\n",
    "F = 1.22E5\n",
    "A = np.linspace(0,100,25)\n",
    "y = Pressure(F,A)\n",
    "\n",
    "plt.scatter(A,y)\n",
    "plt.xlabel('Cross Sectional Area (m^2)')\n",
    "plt.ylabel('Pressure (Pa)')\n",
    "plt.title('Pressure vs Cross Sectional Area')"
   ]
  },
  {
   "cell_type": "code",
   "execution_count": null,
   "metadata": {},
   "outputs": [],
   "source": [
    "# Linearized function \n",
    "\n",
    "F = 1.22E5\n",
    "A = np.linspace(0,100,10)\n",
    "y = Pressure(F,A)\n",
    "\n",
    "plt.scatter(1/A,y)\n",
    "plt.xlabel('1/Cross Sectional Area (m^-2)')\n",
    "plt.ylabel('Pressure (Pa)')\n",
    "plt.title('Linearized Pressure vs Cross Sectional Area')"
   ]
  },
  {
   "cell_type": "code",
   "execution_count": null,
   "metadata": {},
   "outputs": [],
   "source": [
    "def fluid_P(rho,g,h):\n",
    "    P = rho*g*h\n",
    "    return P\n",
    "\n",
    "\n",
    "h = np.linspace(0,100,10) #displacement is negative \n",
    "rho = 1E3\n",
    "g = 9.81\n",
    "y = fluid_P(rho,g,h)\n",
    "\n",
    "plt.scatter(h,y)\n",
    "plt.xlabel('Depth (m)')\n",
    "plt.ylabel('Pressure (Pa)')\n",
    "plt.title('Pressure vs Depth in Water')"
   ]
  },
  {
   "cell_type": "code",
   "execution_count": null,
   "metadata": {},
   "outputs": [],
   "source": [
    "rho = 1E3\n",
    "g = 9.81\n",
    "h = 0\n",
    "dh = 5     #set up the delta h incraments\n",
    "P1 = 1.01E5\n",
    "P = 0\n",
    "PList = []  #create an empty list for pressure\n",
    "hList= []   #create an empty list for depth\n",
    "\n",
    "while h < 100:         #loop through h = 0 to h = -100\n",
    "    dP = P1 + rho*g*dh\n",
    "    P = P + dP\n",
    "    h = h + dh\n",
    "    PList.append(P)     #Adding each new value of P to the list \n",
    "    hList.append(h)     #Adding each new value of h to the list \n",
    "    \n",
    "print('Pressure',PList)\n",
    "print('Depth',hList)"
   ]
  },
  {
   "cell_type": "code",
   "execution_count": null,
   "metadata": {},
   "outputs": [],
   "source": [
    "plt.scatter(hList,PList)\n",
    "plt.xlabel('Depth (m)')\n",
    "plt.ylabel('Pressure (Pa)')\n",
    "plt.title('Pressure vs Depth in Water')"
   ]
  },
  {
   "cell_type": "markdown",
   "metadata": {},
   "source": []
  },
  {
   "cell_type": "code",
   "execution_count": null,
   "metadata": {},
   "outputs": [],
   "source": [
    "import seaborn as sb"
   ]
  },
  {
   "cell_type": "code",
   "execution_count": null,
   "metadata": {},
   "outputs": [],
   "source": [
    "def Pressure(P1,rho,g,h):\n",
    "    P = P1 + rho*g*h\n",
    "    return P\n",
    "\n",
    "h = np.linspace(0,100,100)\n",
    "x = np.linspace(0,100,100)\n",
    "x,h = np.meshgrid(x,h)\n",
    "P1 = 1.01E5\n",
    "rho = 1E3\n",
    "g = 9.81\n",
    "z = Pressure(P1,rho,g,h)\n",
    "ax = sb.heatmap(z)\n",
    "plt.xlabel('Range (m)')\n",
    "plt.ylabel('Depth (m) ')\n",
    "plt.title('Pressure vs Depth of Water')"
   ]
  },
  {
   "cell_type": "code",
   "execution_count": null,
   "metadata": {},
   "outputs": [],
   "source": [
    "x = np.linspace(0,100,100)\n",
    "x,h = np.meshgrid(x,hList)\n",
    "rho2 = 1.35E3\n",
    "z = Pressure(P1,rho2,g,h)\n",
    "ax = sb.heatmap(z)\n",
    "plt.xlabel('Range (m)')\n",
    "plt.ylabel('Depth (m) ')\n",
    "plt.title('Pressure vs Depth of Mercury')"
   ]
  }
 ],
 "metadata": {
  "celltoolbar": "Raw Cell Format",
  "interpreter": {
   "hash": "251d706469fcb9e49b5983007650dd7661e3383df7865dfc6d03a1cc473def10"
  },
  "kernelspec": {
   "display_name": "Python 3",
   "language": "python",
   "name": "python3"
  },
  "language_info": {
   "codemirror_mode": {
    "name": "ipython",
    "version": 3
   },
   "file_extension": ".py",
   "mimetype": "text/x-python",
   "name": "python",
   "nbconvert_exporter": "python",
   "pygments_lexer": "ipython3",
   "version": "3.7.6"
  }
 },
 "nbformat": 4,
 "nbformat_minor": 4
}
