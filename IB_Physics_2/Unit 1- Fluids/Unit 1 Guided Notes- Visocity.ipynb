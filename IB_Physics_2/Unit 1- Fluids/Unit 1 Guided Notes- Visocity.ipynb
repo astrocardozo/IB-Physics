{
 "cells": [
  {
   "cell_type": "markdown",
   "id": "6f886f12",
   "metadata": {},
   "source": [
    "# Viscous Fluid Flow\n",
    "\n",
    "* Viscosity refers to the internal friction of a fluid \n",
    "* If fluid flow in a tube has negligible resistance, the speed is the same all across the tube.\n",
    "* When a viscous fluid flows through a tube, its speed at the walls is zero, increasing steadily to its maximum at the center of the tube. \n",
    "* The shape of the Bunsen burner flame is due to the velocity profile across the tube. \n",
    "\n",
    "# Poiseuille's Law\n",
    "\n",
    "* Poiseuille’s law applies to laminar flow of an incompressible fluid of viscosity $\\eta$ through a tube of length $l$ and radius $r$. The direction of flow is from greater to lower pressure. Flow rate $Q$ is directly proportional to the pressure difference $P_2 − P_1$ , and inversely proportional to the length $l$ of the tube and viscosity $\\eta$ of the fluid. Flow rate increases with $r^4$ , the fourth power of the radius.\n"
   ]
  },
  {
   "cell_type": "code",
   "execution_count": 1,
   "id": "2524e4f8",
   "metadata": {},
   "outputs": [
    {
     "data": {
      "text/html": [
       "<div id=\"glowscript\" class=\"glowscript\"></div>"
      ],
      "text/plain": [
       "<IPython.core.display.HTML object>"
      ]
     },
     "metadata": {},
     "output_type": "display_data"
    },
    {
     "data": {
      "application/javascript": [
       "if (typeof Jupyter !== \"undefined\") { window.__context = { glowscript_container: $(\"#glowscript\").removeAttr(\"id\")};}else{ element.textContent = ' ';}"
      ],
      "text/plain": [
       "<IPython.core.display.Javascript object>"
      ]
     },
     "metadata": {},
     "output_type": "display_data"
    }
   ],
   "source": [
    "import numpy as np\n",
    "import matplotlib.pyplot as plt\n",
    "from vpython import *\n",
    "\n",
    "%matplotlib notebook"
   ]
  },
  {
   "cell_type": "code",
   "execution_count": null,
   "id": "fc3452ba",
   "metadata": {},
   "outputs": [],
   "source": [
    "def V(r,P1,P2,eta,l):\n",
    "    V = ((R**2-r**2)*(P1-P2))/(4*eta*l)\n",
    "    return V\n",
    "\n",
    "P2 = 1.01E5\n",
    "r = np.linspace(0,1,35)\n",
    "R = 1\n",
    "eta = 250E-3\n",
    "eta2 = 500E-3\n",
    "P1 = 1.02E5\n",
    "l = 1\n",
    "\n",
    "V = np.array(V(r,P1,P2,eta,l))\n",
    "\n",
    "plt.scatter(r,V)\n",
    "\n",
    "plt.title('Fluid Speed vs Radius of Pipe')\n",
    "plt.ylabel('Fluid Speed (m/s)')\n",
    "plt.xlabel('Radius (m)')\n",
    "plt.show()"
   ]
  },
  {
   "cell_type": "code",
   "execution_count": null,
   "id": "d98daa81",
   "metadata": {},
   "outputs": [],
   "source": [
    "def Q(r,P1,P2,eta,l):\n",
    "    Q = ((np.pi)*(r**2)*(P1-P2))/(8*eta*l)\n",
    "    return Q\n",
    "\n",
    "P2 = 1.01E5\n",
    "r = np.linspace(0,1,35)\n",
    "eta = 250E-3\n",
    "P1 = 1.02E5\n",
    "l = 1\n",
    "\n",
    "Q = np.array(Q(r,P1,P2,eta,l))\n",
    "plt.scatter(r,Q)\n",
    "plt.title('Volume Flow Rate vs Radius of Pipe')\n",
    "plt.ylabel('Volume Flow Rate (m^3/s)')\n",
    "plt.xlabel('Radius (m)')"
   ]
  },
  {
   "cell_type": "code",
   "execution_count": null,
   "id": "4a59c521",
   "metadata": {},
   "outputs": [],
   "source": [
    "from vpython import *\n",
    "\n",
    "scene = canvas()\n",
    "scene.background = color.gray(0.8)\n",
    "scene.forward = vec(2,-2,-2)\n",
    "\n",
    "P1 = 1.01E5\n",
    "eta = 250E-3\n",
    "P2 = 1.02E5\n",
    "l = 1\n",
    "x = 0\n",
    "xmax = 2.5\n",
    "dx = 0.5\n",
    "rmax = 0.8\n",
    "dR = 0.1\n",
    "dtheta = pi/8\n",
    "Vscale = 1E-3\n",
    "\n",
    "tube = extrusion(path=[vec(0,0,0), vec(2,0,0)], shape=shapes.circle(radius=1, thickness=0.2),pos=vec(1,0,0), axis=vec(2,0,0), color=color.white, end_face_color=color.white, opacity = 0.5)\n",
    "water = cylinder(radius=0.8, thickness=0.2, pos=vec(0,0,0), axis=vec(2,0,0), color=color.blue, end_face_color=color.blue, opacity = 0.7)\n",
    "\n",
    "arrow_list = []\n",
    "\n",
    "while x < xmax:\n",
    "    rate(100)\n",
    "    theta = 0\n",
    "    while theta < 2*pi:\n",
    "        R = 0\n",
    "        while R < rmax:\n",
    "            a = arrow(pos=vector(x,R*sin(theta),R*cos(theta)),color=color.orange, radius = 1E-2, axis= vector(V,0,0))\n",
    "            V = vector(((R**2-rmax**2)*(P1-P2))/(4*eta*l),0,0)\n",
    "            a.axis = V*Vscale\n",
    "            arrow_list.append(a)\n",
    "            R = R+dR\n",
    "        theta = theta + dtheta\n",
    "    x=x+dx"
   ]
  },
  {
   "cell_type": "code",
   "execution_count": 8,
   "id": "971246df",
   "metadata": {},
   "outputs": [
    {
     "data": {
      "text/html": [
       "<div id=\"glowscript\" class=\"glowscript\"></div>"
      ],
      "text/plain": [
       "<IPython.core.display.HTML object>"
      ]
     },
     "metadata": {},
     "output_type": "display_data"
    },
    {
     "data": {
      "application/javascript": [
       "if (typeof Jupyter !== \"undefined\") { window.__context = { glowscript_container: $(\"#glowscript\").removeAttr(\"id\")};}else{ element.textContent = ' ';}"
      ],
      "text/plain": [
       "<IPython.core.display.Javascript object>"
      ]
     },
     "metadata": {},
     "output_type": "display_data"
    }
   ],
   "source": [
    "\n",
    "L = 10 # container is a cube L on a side\n",
    "gray = color.gray(0.7) # color of edges of container\n",
    "mass = 4E-3/6E23 # helium mass\n",
    "Ratom = 0.03 # wildly exaggerated size of helium atom\n",
    "\n",
    "\n",
    "animation = canvas( width=500, height=500, align='left',background = color.white)\n",
    "animation.range = L\n",
    "\n",
    "\n",
    "d = 5\n",
    "r = 0.05\n",
    "boxbottom = curve(color=gray, radius=r)\n",
    "boxbottom.append([vector(-d,-d,-d), vector(-d,-d,d), vector(d,-d,d), vector(d,-d,-d), vector(-d,-d,-d)])\n",
    "boxtop = curve(color=gray, radius=r)\n",
    "boxtop.append([vector(-d,d,-d), vector(-d,d,d), vector(d,d,d), vector(d,d,-d), vector(-d,d,-d)])\n",
    "vert1 = curve(color=gray, radius=r)\n",
    "vert2 = curve(color=gray, radius=r)\n",
    "vert3 = curve(color=gray, radius=r)\n",
    "vert4 = curve(color=gray, radius=r)\n",
    "vert1.append([vector(-d,-d,-d), vector(-d,d,-d)])\n",
    "vert2.append([vector(-d,-d,d), vector(-d,d,d)])\n",
    "vert3.append([vector(d,-d,d), vector(d,d,d)])\n",
    "vert4.append([vector(d,-d,-d), vector(d,d,-d)])\n",
    "\n",
    "boxfill = box(pos = vector (0,0,0), size = vector (10,10,10), color = color.blue, opacity=0.2)\n",
    "\n",
    "particle = sphere( pos = vector(0,4,0), radius = 0.5, velocity = vec(0,0,0), Fg = vec(0,0,0), charge = 1, mass = 1, color =color.red, make_trail=True, trail_type=\"points\", interval=20, retain=100)"
   ]
  },
  {
   "cell_type": "code",
   "execution_count": null,
   "id": "72b6f08a",
   "metadata": {},
   "outputs": [],
   "source": []
  }
 ],
 "metadata": {
  "kernelspec": {
   "display_name": "Python 3",
   "language": "python",
   "name": "python3"
  },
  "language_info": {
   "codemirror_mode": {
    "name": "ipython",
    "version": 3
   },
   "file_extension": ".py",
   "mimetype": "text/x-python",
   "name": "python",
   "nbconvert_exporter": "python",
   "pygments_lexer": "ipython3",
   "version": "3.7.6"
  }
 },
 "nbformat": 4,
 "nbformat_minor": 5
}
