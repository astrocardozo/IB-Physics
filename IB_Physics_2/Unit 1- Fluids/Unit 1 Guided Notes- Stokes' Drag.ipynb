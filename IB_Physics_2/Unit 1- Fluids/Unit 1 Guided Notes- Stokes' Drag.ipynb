{
 "cells": [
  {
   "cell_type": "markdown",
   "id": "292bad1e",
   "metadata": {},
   "source": [
    "# Objectives\n",
    "\n",
    "By the end of this section, you will be able to:\n",
    "\n",
    "* Describe the conditions under which an object has a terminal speed."
   ]
  },
  {
   "cell_type": "code",
   "execution_count": null,
   "id": "7dee92b0",
   "metadata": {},
   "outputs": [],
   "source": [
    "from vpython import *"
   ]
  },
  {
   "cell_type": "code",
   "execution_count": null,
   "id": "34174f16",
   "metadata": {},
   "outputs": [],
   "source": [
    "#Define our global varibles\n",
    "g = 9.81\n",
    "c = 0.5\n",
    "rho = 12\n",
    "eta = 0.07\n",
    "t  = 0\n",
    "dt=0.01\n",
    "\n",
    "#Define force of gravity, drag force, and momentum functions\n",
    "def Fg(a):\n",
    "    Fg_mag = a.mass*g\n",
    "    Fg_dir = norm(vec(0,-1,0))\n",
    "    Fg_val = Fg_mag*Fg_dir\n",
    "    return Fg_val\n",
    "\n",
    "def Fdrag(a):\n",
    "    Fdrag_mag = 6*pi*a.radius*eta*mag(a.velocity)\n",
    "    Fdrag = -Fdrag_mag*a.velocity.hat\n",
    "    return Fdrag\n",
    "\n",
    "def p(a):\n",
    "    p = (a.mass)*(a.velocity)\n",
    "    return p"
   ]
  },
  {
   "cell_type": "code",
   "execution_count": null,
   "id": "d3442235",
   "metadata": {},
   "outputs": [],
   "source": [
    "#Define our live graphs\n",
    "graph1 = graph(width=400,height=300,align=\"right\", title='Particle 1 Position Vs. Time', xtitle='Time(s)',ytitle='Position(m)', foreground=color.black, background=color.white)\n",
    "graph2 = graph(width=400,height=300,align=\"left\", title='Particle 2 Position Vs. Time', xtitle='Time(s)',ytitle='Position(m)', foreground=color.black, background=color.white)\n",
    "\n",
    "#Define the curves to which our graphs will draw \n",
    "Graph_xpos1 = gcurve(graph = graph1,color=color.blue)\n",
    "Graph_ypos1 = gcurve(graph = graph1,color=color.red)\n",
    "Graph_xpos2 = gcurve(graph = graph2,color=color.blue)\n",
    "Graph_ypos2 = gcurve(graph = graph2,color=color.red)"
   ]
  },
  {
   "cell_type": "code",
   "execution_count": null,
   "id": "294dddab",
   "metadata": {},
   "outputs": [],
   "source": [
    "#Define our scene\n",
    "scene = canvas( width=500, height=500,background = color.white)\n",
    "scene.camera.pos = vec(-30,10,40)\n",
    "scene.camera.axis = vec(0,0,-10)\n",
    "\n",
    "#Define our floor, particles, and vectors\n",
    "floor = box (pos=vector(0,0, 0), size=vector(200, 0.2, 200),  color = color.green,opacity = 1)\n",
    "particle1 = sphere( pos = vector(-30,10,0), radius = 0.5, mass = 1, velocity = vec(10,10,0), p = vec(0,0,0),Fg = vec(0,0,0), Fdrag= vec(0,0,0), color =color.red, make_trail=True, trail_type=\"points\", interval=20, retain=20)\n",
    "particle2 = sphere( pos = vector(-32,10,0), radius = 0.5, mass = 1, velocity = vec(10,10,0), p = vec(0,0,0),Fg = vec(0,0,0), Fdrag= vec(0,0,0), color =color.blue, make_trail=True, trail_type=\"points\", interval=20, retain=20)\n",
    "attach_arrow(particle1,\"Fg\", color=color.orange)\n",
    "attach_arrow(particle1,\"Fdrag\", color=color.blue)\n",
    "attach_arrow(particle2,\"Fg\", color=color.orange)\n",
    "\n",
    "while (t<20):\n",
    "    rate(100)\n",
    "    #Calculate the momentum \n",
    "    particle1.p = p(particle1)\n",
    "    particle2.p = p(particle2)\n",
    "    \n",
    "    #Calculate the force of gravity \n",
    "    particle1.Fg = Fg(particle1)\n",
    "    particle2.Fg = Fg(particle2)\n",
    "\n",
    "    #Calculate the drag force\n",
    "    particle1.Fdrag = Fdrag(particle1)\n",
    "    particle2.Fdrag = Fdrag(particle2)\n",
    "    \n",
    "    #Calculate the net force\n",
    "    Fnet1 = particle1.Fdrag + particle1.Fg\n",
    "    Fnet2 = particle2.Fg\n",
    "    \n",
    "    #Calcuate the position, velocity and updated momentum\n",
    "    particle1.pos = particle1.pos + (particle1.velocity)*dt\n",
    "    particle1.velocity = particle1.velocity + (Fnet1/particle1.mass)*dt\n",
    "    particle1.p = particle1.p + Fnet1*dt\n",
    "    \n",
    "    #Calcuate the position, velocity and updated momentum\n",
    "    particle2.pos = particle2.pos + (particle2.velocity)*dt\n",
    "    particle2.velocity = particle2.velocity + (Fnet2/particle2.mass)*dt\n",
    "    particle2.p = particle2.p + Fnet2*dt\n",
    "    \n",
    "    #Graph the motion of our particles\n",
    "    Graph_xpos1.plot(pos=(t,particle1.pos.x))\n",
    "    Graph_ypos1.plot(pos=(t,particle1.pos.y))\n",
    "    Graph_xpos2.plot(pos=(t,particle2.pos.x))\n",
    "    Graph_ypos2.plot(pos=(t,particle2.pos.y))\n",
    "    \n",
    "    #Make the balls bounce off the floor\n",
    "    if (floor.pos.y+0.2+particle1.radius > particle1.pos.y):\n",
    "        particle1.velocity.y = -particle1.velocity.y\n",
    "    if (floor.pos.y+0.2+particle2.radius > particle2.pos.y):\n",
    "        particle2.velocity.y = -particle2.velocity.y\n",
    "    t = t+dt"
   ]
  },
  {
   "cell_type": "code",
   "execution_count": null,
   "id": "59f88177",
   "metadata": {},
   "outputs": [],
   "source": []
  }
 ],
 "metadata": {
  "kernelspec": {
   "display_name": "Python 3",
   "language": "python",
   "name": "python3"
  },
  "language_info": {
   "codemirror_mode": {
    "name": "ipython",
    "version": 3
   },
   "file_extension": ".py",
   "mimetype": "text/x-python",
   "name": "python",
   "nbconvert_exporter": "python",
   "pygments_lexer": "ipython3",
   "version": "3.7.6"
  }
 },
 "nbformat": 4,
 "nbformat_minor": 5
}
