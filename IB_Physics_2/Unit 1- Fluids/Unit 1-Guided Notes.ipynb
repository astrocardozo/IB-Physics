{
 "cells": [
  {
   "cell_type": "markdown",
   "metadata": {},
   "source": [
    "# Pressure and Forces\n",
    "\n",
    "* Pressure is the force per unit perpendicular area over which the force is applied. In equation form, pressure is defined as $P=F/A$\n",
    "* The SI unit of pressure is pascal and 1 Pa =1 N/m\n",
    "* 1 atm=1.01 x 10 Pa\n",
    "* Pressure is a scalar quantity \n",
    "* Pressure is the weight of the fluid 𝓂ℊ divided by the area A supporting it (the area of the bottom of the container): $P=mg/A$\n",
    "* Pressure is force per unit area. \n",
    "* Newton's third law still applies  \n",
    "* All portions of the fluid must be in static equilibrium\n",
    "* All points at the same depth must be at the same pressure\n",
    "* The pressure P at a depth h below the surface of a liquid open to the atmosphere is greater than atmospheric pressure by the amount $\\rho gh$\n",
    "\n",
    "\n",
    "\n",
    "\n",
    "\n",
    "\n"
   ]
  },
  {
   "cell_type": "code",
   "execution_count": 1,
   "metadata": {},
   "outputs": [],
   "source": [
    "import numpy as np  \n",
    "import matplotlib.pyplot as plt\n",
    "import pandas as pd\n",
    "%matplotlib inline"
   ]
  },
  {
   "cell_type": "markdown",
   "metadata": {},
   "source": []
  },
  {
   "cell_type": "code",
   "execution_count": null,
   "metadata": {},
   "outputs": [],
   "source": [
    "def Pressure(F,A):\n",
    "    P = F/A\n",
    "    return P   \n",
    "\n",
    "F = 1.22E5\n",
    "A = np.linspace(0,100,25)\n",
    "y = Pressure(F,A)\n",
    "\n",
    "plt.scatter(A,y)\n",
    "plt.xlabel('Cross Sectional Area (m^2)')\n",
    "plt.ylabel('Pressure (Pa)')\n",
    "plt.title('Pressure vs Cross Sectional Area')"
   ]
  },
  {
   "cell_type": "code",
   "execution_count": null,
   "metadata": {},
   "outputs": [],
   "source": [
    "def Pressure(F,A):\n",
    "    P = F/A\n",
    "    return P\n",
    "\n",
    "F = 1.22E5\n",
    "A = np.linspace(0,100,10)\n",
    "y = Pressure(F,A)\n",
    "\n",
    "plt.scatter(1/A,y)\n",
    "plt.xlabel('1/Cross Sectional Area (m^-2)')\n",
    "plt.ylabel('Pressure (Pa)')\n",
    "plt.title('Linearized Pressure vs Cross Sectional Area')"
   ]
  },
  {
   "cell_type": "code",
   "execution_count": null,
   "metadata": {},
   "outputs": [],
   "source": [
    "def Pressure(rho,g,h):\n",
    "    P = rho*g*h\n",
    "    return P\n",
    "\n",
    "\n",
    "h = np.linspace(0,100,10) #displacement is negative \n",
    "rho = 1E3\n",
    "g = 9.81\n",
    "y = Pressure(rho,g,h)\n",
    "\n",
    "plt.scatter(h,y)\n",
    "plt.xlabel('Depth (m)')\n",
    "plt.ylabel('Pressure (Pa)')\n",
    "plt.title('Pressure vs Depth in Water')"
   ]
  },
  {
   "cell_type": "code",
   "execution_count": null,
   "metadata": {},
   "outputs": [],
   "source": [
    "rho = 1E3\n",
    "g = 9.81\n",
    "h = 0\n",
    "dh = 5     #set up the delta h incraments\n",
    "P1 = 1.01E5\n",
    "P = 0\n",
    "PList = []  #create an empty list for pressure\n",
    "hList= []   #create an empty list for depth\n",
    "\n",
    "while h < 100:         #loop through h = 0 to h = -100\n",
    "    dP = P1 + rho*g*dh\n",
    "    P = P + dP\n",
    "    h = h + dh\n",
    "    PList.append(P)     #Adding each new value of P to the list \n",
    "    hList.append(h)     #Adding each new value of h to the list \n",
    "    \n",
    "print('Pressure',PList)\n",
    "print('Depth',hList)"
   ]
  },
  {
   "cell_type": "code",
   "execution_count": null,
   "metadata": {},
   "outputs": [],
   "source": [
    "plt.scatter(hList,PList)\n",
    "plt.xlabel('Depth (m)')\n",
    "plt.ylabel('Pressure (Pa)')\n",
    "plt.title('Pressure vs Depth in Water')"
   ]
  },
  {
   "cell_type": "markdown",
   "metadata": {},
   "source": []
  },
  {
   "cell_type": "code",
   "execution_count": null,
   "metadata": {},
   "outputs": [],
   "source": [
    "import seaborn as sb"
   ]
  },
  {
   "cell_type": "code",
   "execution_count": null,
   "metadata": {},
   "outputs": [],
   "source": [
    "def Pressure(P1,rho,g,h):\n",
    "    P = P1 + rho*g*h\n",
    "    return P\n",
    "\n",
    "h = np.linspace(0,100,100)\n",
    "x = np.linspace(0,100,100)\n",
    "x,h = np.meshgrid(x,h)\n",
    "P1 = 1.01E5\n",
    "rho = 1E3\n",
    "g = 9.81\n",
    "z = Pressure(P1,rho,g,h)\n",
    "ax = sb.heatmap(z)\n",
    "plt.xlabel('Range (m)')\n",
    "plt.ylabel('Depth (m) ')\n",
    "plt.title('Pressure vs Depth of Water')"
   ]
  },
  {
   "cell_type": "code",
   "execution_count": null,
   "metadata": {},
   "outputs": [],
   "source": [
    "x = np.linspace(0,100,100)\n",
    "x,h = np.meshgrid(x,hList)\n",
    "z = Pressure(P1,rho,g,h)\n",
    "ax = sb.heatmap(z)\n",
    "plt.xlabel('Range (m)')\n",
    "plt.ylabel('Depth (m) ')\n",
    "plt.title('Pressure vs Depth of Mercury')"
   ]
  },
  {
   "cell_type": "code",
   "execution_count": null,
   "metadata": {},
   "outputs": [],
   "source": [
    "from vpython import *\n",
    "import numpy as np\n",
    "scene = canvas(width=800, height=800,\n",
    "     center=vector(0,25,0))\n",
    "scene.background = color.gray(0.8)"
   ]
  },
  {
   "cell_type": "code",
   "execution_count": null,
   "metadata": {},
   "outputs": [],
   "source": [
    "t  = 0\n",
    "dt=0.01\n",
    "g=9.8\n",
    "vy = 1\n",
    "m_st = 10\n",
    "rho_st = 1.8E3\n",
    "rho_w = 1.0E3\n",
    "volume = m_st/rho_st\n",
    "m_w = rho_w*volume\n",
    "F_b = rho_w*g*volume\n",
    "#fracsub = volume_sub/ volume\n",
    "\n",
    "\n",
    "water = box(pos= vector(0,0,0),color=color.blue,size=vector(100,100,100),opacity = 0.5)\n",
    "mass = box(pos=vector(0,1,0), color=color.red, length=10,width=10,height=10,velocity=vector(0,vy,0)\n",
    "           ,F_g=vector(0,-m_st*g,0),F_b=vector(0,F_b,0))\n",
    "F_g = attach_arrow(mass, \"F_g\", color=color.green)\n",
    "F_b = attach_arrow(mass, \"F_b\", color=color.yellow)\n",
    "\n",
    "\n",
    "while 55.5>mass.pos.y >-45:\n",
    "  rate(100)\n",
    "  Fy = m_w*g-m_st*g\n",
    "  mass.force = vector(0,Fy,0)\n",
    "  mass.velocity = mass.velocity + mass.force/m_st * dt\n",
    "  mass.pos = mass.pos + mass.velocity * dt\n",
    "  t = t + dt"
   ]
  },
  {
   "cell_type": "markdown",
   "metadata": {},
   "source": [
    "# Viscous Fluid Flow\n",
    "\n",
    "* Viscosity refers to the internal friction of a fluid \n",
    "* If fluid flow in a tube has negligible resistance, the speed is the same all across the tube.\n",
    "* When a viscous fluid flows through a tube, its speed at the walls is zero, increasing steadily to its maximum at the center of the tube. \n",
    "* The shape of the Bunsen burner flame is due to the velocity profile across the tube. \n",
    "\n",
    "# Poiseuille's Law\n",
    "\n",
    "* Poiseuille’s law applies to laminar flow of an incompressible fluid of viscosity $\\eta$ through a tube of length $l$ and radius $r$. The direction of flow is from greater to lower pressure. Flow rate $Q$ is directly proportional to the pressure difference $P_2 − P_1$ , and inversely proportional to the length $l$ of the tube and viscosity $\\eta$ of the fluid. Flow rate increases with $r^4$ , the fourth power of the radius.\n"
   ]
  },
  {
   "cell_type": "code",
   "execution_count": 2,
   "metadata": {},
   "outputs": [
    {
     "data": {
      "text/plain": [
       "Text(0.5, 0, 'Radius (m)')"
      ]
     },
     "execution_count": 2,
     "metadata": {},
     "output_type": "execute_result"
    },
    {
     "data": {
      "image/png": "[encoded data removed]",
      "text/plain": [
       "<Figure size 432x288 with 1 Axes>"
      ]
     },
     "metadata": {
      "needs_background": "light"
     },
     "output_type": "display_data"
    }
   ],
   "source": [
    "def V(r,P1,P2,eta,l):\n",
    "    V = ((R**2-r**2)*(P1-P2))/(4*eta*l)\n",
    "    return V\n",
    "\n",
    "P2 = 1.01E5\n",
    "r = np.linspace(0,1,35)\n",
    "R = 1\n",
    "eta = 250E-3\n",
    "P1 = 1.02E5\n",
    "l = 1\n",
    "\n",
    "V = np.array(V(r,P1,P2,eta,l))\n",
    "plt.scatter(r,V)\n",
    "plt.title('Fluid Speed vs Radius of Pipe')\n",
    "plt.ylabel('Fluid Speed (m/s)')\n",
    "plt.xlabel('Radius (m)')"
   ]
  },
  {
   "cell_type": "code",
   "execution_count": 3,
   "metadata": {},
   "outputs": [
    {
     "data": {
      "text/plain": [
       "Text(0.5, 0, 'Radius (m)')"
      ]
     },
     "execution_count": 3,
     "metadata": {},
     "output_type": "execute_result"
    },
    {
     "data": {
      "image/png": "[encoded data removed]",
      "text/plain": [
       "<Figure size 432x288 with 1 Axes>"
      ]
     },
     "metadata": {
      "needs_background": "light"
     },
     "output_type": "display_data"
    }
   ],
   "source": [
    "def Q(r,P1,P2,eta,l):\n",
    "    Q = ((np.pi)*(r**2)*(P1-P2))/(8*eta*l)\n",
    "    return Q\n",
    "\n",
    "P2 = 1.01E5\n",
    "r = np.linspace(0,1,35)\n",
    "eta = 250E-3\n",
    "P1 = 1.02E5\n",
    "l = 1\n",
    "\n",
    "Q = np.array(Q(r,P1,P2,eta,l))\n",
    "plt.scatter(r,Q)\n",
    "plt.title('Volume Flow Rate vs Radius of Pipe')\n",
    "plt.ylabel('Volume Flow Rate (m^3/s)')\n",
    "plt.xlabel('Radius (m)')"
   ]
  },
  {
   "cell_type": "code",
   "execution_count": null,
   "metadata": {},
   "outputs": [
    {
     "data": {
      "text/html": [
       "<div id=\"glowscript\" class=\"glowscript\"></div>"
      ],
      "text/plain": [
       "<IPython.core.display.HTML object>"
      ]
     },
     "metadata": {},
     "output_type": "display_data"
    },
    {
     "data": {
      "application/javascript": [
       "if (typeof Jupyter !== \"undefined\") { window.__context = { glowscript_container: $(\"#glowscript\").removeAttr(\"id\")};}else{ element.textContent = ' ';}"
      ],
      "text/plain": [
       "<IPython.core.display.Javascript object>"
      ]
     },
     "metadata": {},
     "output_type": "display_data"
    },
    {
     "data": {
      "text/html": [
       "<div id=\"glowscript\" class=\"glowscript\"></div>"
      ],
      "text/plain": [
       "<IPython.core.display.HTML object>"
      ]
     },
     "metadata": {},
     "output_type": "display_data"
    },
    {
     "data": {
      "application/javascript": [
       "if (typeof Jupyter !== \"undefined\") { window.__context = { glowscript_container: $(\"#glowscript\").removeAttr(\"id\")};}else{ element.textContent = ' ';}"
      ],
      "text/plain": [
       "<IPython.core.display.Javascript object>"
      ]
     },
     "metadata": {},
     "output_type": "display_data"
    },
    {
     "name": "stdout",
     "output_type": "stream",
     "text": [
      "<1, 1, 1>\n",
      "<-1, -1, -1>\n"
     ]
    },
    {
     "data": {
      "application/javascript": [
       "if (typeof Jupyter !== \"undefined\") {require.undef(\"nbextensions/vpython_libraries/glow.min\");}else{element.textContent = ' ';}"
      ],
      "text/plain": [
       "<IPython.core.display.Javascript object>"
      ]
     },
     "metadata": {},
     "output_type": "display_data"
    },
    {
     "data": {
      "application/javascript": [
       "if (typeof Jupyter !== \"undefined\") {require.undef(\"nbextensions/vpython_libraries/glowcomm\");}else{element.textContent = ' ';}"
      ],
      "text/plain": [
       "<IPython.core.display.Javascript object>"
      ]
     },
     "metadata": {},
     "output_type": "display_data"
    },
    {
     "data": {
      "application/javascript": [
       "if (typeof Jupyter !== \"undefined\") {require.undef(\"nbextensions/vpython_libraries/jquery-ui.custom.min\");}else{element.textContent = ' ';}"
      ],
      "text/plain": [
       "<IPython.core.display.Javascript object>"
      ]
     },
     "metadata": {},
     "output_type": "display_data"
    },
    {
     "data": {
      "application/javascript": [
       "if (typeof Jupyter !== \"undefined\") {require([\"nbextensions/vpython_libraries/glow.min\"], function(){console.log(\"GLOW LOADED\");});}else{element.textContent = ' ';}"
      ],
      "text/plain": [
       "<IPython.core.display.Javascript object>"
      ]
     },
     "metadata": {},
     "output_type": "display_data"
    },
    {
     "data": {
      "application/javascript": [
       "if (typeof Jupyter !== \"undefined\") {require([\"nbextensions/vpython_libraries/glowcomm\"], function(){console.log(\"GLOWCOMM LOADED\");});}else{element.textContent = ' ';}"
      ],
      "text/plain": [
       "<IPython.core.display.Javascript object>"
      ]
     },
     "metadata": {},
     "output_type": "display_data"
    },
    {
     "data": {
      "application/javascript": [
       "if (typeof Jupyter !== \"undefined\") {require([\"nbextensions/vpython_libraries/jquery-ui.custom.min\"], function(){console.log(\"JQUERY LOADED\");});}else{element.textContent = ' ';}"
      ],
      "text/plain": [
       "<IPython.core.display.Javascript object>"
      ]
     },
     "metadata": {},
     "output_type": "display_data"
    }
   ],
   "source": [
    "from vpython import *\n",
    "scene = canvas()\n",
    "scene.background = color.gray(0.8)\n",
    "scene.forward = vec(-1,-1,-1)\n",
    "print(scene.camera.pos)\n",
    "print(scene.camera.axis)\n",
    "\n",
    "r = 1\n",
    "\n",
    "xaxis=cylinder(color=vector(1,0,0), pos=vector(0,0,0), axis=vector(1,0,0), radius=0.1)\n",
    "xlbl=label(pos=vector(1.2,0,0), text=\"X\", color=color.red, opacity=0, height=20, box=0)\n",
    "yaxis=cylinder(color=color.green, pos=vector(0,0,0), axis=vector(0,1,0), radius=0.1)\n",
    "ylbl=label(pos=vector(0,1.2,0), text=\"Y\", color=color.green, opacity=0, height=20, box=0)\n",
    "zaxis=cylinder(color=color.blue, pos=vector(0,0,0), axis=vector(0,0,1), radius=0.1)\n",
    "xlbl=label(pos=vector(0,0,1.2), text=\"Z\", color=color.blue, opacity=0, height=20, box=0)\n",
    "\n",
    "tube = extrusion(path=[vec(0,0,0), vec(2,0,0)], shape=shapes.circle(radius=1, thickness=0.2),\n",
    "                    pos=vec(1,0,0), axis=vec(2,0,0), color=color.white, end_face_color=color.white, opacity = 0.5)\n",
    "water = cylinder(radius=0.8, thickness=0.2, pos=vec(0,0,0), \n",
    "                 axis=vec(2,0,0), color=color.blue, end_face_color=color.blue, opacity = 0.7)\n",
    "#center = arrow(pos=vec(2,0,0), axis = vec(2,0,0), color=color.red, length=1)\n",
    "particle = sphere(pos=vector(2,0,0), color=color.red, radius = 1E-3)\n",
    "\n",
    "angles = np.arange(0,2*pi,pi/5)\n",
    "print(angles)\n",
    "\n",
    "arrow_list = []\n",
    "arrow_list1 = []\n",
    "\n",
    "for theta in angles:\n",
    "    arrow_list.append(arrow(pos=vector(2, r*sin(theta), r*cos(theta)), color=color.orange, shaftwidth = 0.05))       \n",
    "    arrow_list.append(arrow(pos=vector(2, 2*r*sin(theta), 2*r*cos(theta)), color=color.orange, shaftwidth = 0.05))        \n",
    "    arrow_list1.append(arrow(pos=vector(2,r*cos(theta), r*sin(theta)), color=color.orange,shaftwidth = 0.05, visible=False))       \n",
    "    arrow_list1.append(arrow(pos=vector(2, 2*r*cos(theta), 2*r*sin(theta)), color=color.orange,shaftwidth = 0.05, visible=False)) \n",
    "\n",
    "for thisarrow in arrow_list.concat(arrow_list1):\n",
    "    # in this loop calculate E at each observation location\n",
    "    r = thisarrow.pos - particle.pos\n",
    "    V = ((R**2-r**2)*(P1-P2))/(4*eta*l)\n",
    "    thisarrow.axis = V\n",
    "    "
   ]
  },
  {
   "cell_type": "code",
   "execution_count": null,
   "metadata": {},
   "outputs": [],
   "source": []
  },
  {
   "cell_type": "code",
   "execution_count": null,
   "metadata": {},
   "outputs": [],
   "source": []
  }
 ],
 "metadata": {
  "celltoolbar": "Raw Cell Format",
  "interpreter": {
   "hash": "251d706469fcb9e49b5983007650dd7661e3383df7865dfc6d03a1cc473def10"
  },
  "kernelspec": {
   "display_name": "Python 3",
   "language": "python",
   "name": "python3"
  },
  "language_info": {
   "codemirror_mode": {
    "name": "ipython",
    "version": 3
   },
   "file_extension": ".py",
   "mimetype": "text/x-python",
   "name": "python",
   "nbconvert_exporter": "python",
   "pygments_lexer": "ipython3",
   "version": "3.7.6"
  }
 },
 "nbformat": 4,
 "nbformat_minor": 4
}
