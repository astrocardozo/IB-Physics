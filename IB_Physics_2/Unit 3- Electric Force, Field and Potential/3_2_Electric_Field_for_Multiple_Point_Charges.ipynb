{
 "cells": [
  {
   "cell_type": "markdown",
   "metadata": {
    "id": "zLde3dPpMsEO"
   },
   "source": [
    "# Outcomes\n",
    "\n",
    "By the end of this notebook, you will be able to...\n",
    "* Create and use a list of dictionaries.\n",
    "* Extend a computational model.\n",
    "* Employ the superposition principle."
   ]
  },
  {
   "cell_type": "markdown",
   "metadata": {
    "id": "XbMh_2Q0RCkS"
   },
   "source": [
    "In the code cell below, copy-paste your code from CIT 3.1 that created your `meshgrid` and created your function `PointEField`. We'll use these again in this notebook."
   ]
  },
  {
   "cell_type": "code",
   "execution_count": null,
   "metadata": {
    "id": "nPuU5e-3DfNd"
   },
   "outputs": [],
   "source": [
    "# Copy-paste here.\n",
    "\n"
   ]
  },
  {
   "cell_type": "markdown",
   "metadata": {
    "id": "sBxT4yD7DqKI"
   },
   "source": [
    "# Multiple point charges\n",
    "\n",
    "We can extend your computational model to study the electric field created by multiple point charges. This method takes advantage of the superposition princple, that the electric field created by multiple point charges is just the sum of all the electric fields created by the individual point charges:\n",
    "\n",
    "\\begin{equation}\n",
    "\\vec{E} = \\vec{E}_{q_1} + \\vec{E}_{q_2} + \\ldots\n",
    "\\end{equation}\n",
    "\n",
    "We'll keep track of each point charge with its own dictionary, and store these dictionaries in a **list**:\n",
    "\n",
    "```charges = [ {'q':q1, 'x':x1, 'y':y1}, {'q':q2, 'x':x2, 'y':y2}, ... ]```\n",
    "\n",
    "In the code cell below, create a list `charges` that holds two charges with $q_1 = 1$, $x_1 = -3$, $y_1 = 0$, $q_2 = -1$, $x_2 = 3$, $y_2 = 0$. Try to imagine this charge setup. What do we usually call [this charge setup](https://en.wikipedia.org/wiki/Dipole)?\n",
    "\n",
    "The code cell then defines a function `EField` that uses your `EField` function to calculate the electric field from all the point charges in the list `charges`. Run this code cell."
   ]
  },
  {
   "cell_type": "code",
   "execution_count": null,
   "metadata": {
    "id": "TY5pkpKE2epc"
   },
   "outputs": [],
   "source": [
    "charges = ??\n",
    "\n",
    "def EField(charges,xField,yField):\n",
    "  Ex,Ey = 0,0\n",
    "  for charge in charges:\n",
    "    newEx,newEy = PointEField(charge,xField,yField)\n",
    "    Ex += newEx\n",
    "    Ey += newEy\n",
    "  return Ex,Ey"
   ]
  },
  {
   "cell_type": "markdown",
   "metadata": {
    "id": "5BEBZAqmTaqb"
   },
   "source": [
    "Time to see what you have created! The code cell below creates a quiver plot of the electric field from your charge setup. Run the code cell, and evaluate whether the electric field pattern is reasonable.\n",
    "\n",
    "Then, adjust your `charges` list to create a **quadrupole**: two positive point charges at opposite corners of a square and two negative point charges at the other opposite corners, with all charges having the same absolute value. Run the entire worksheet again and discuss your visualization."
   ]
  },
  {
   "cell_type": "code",
   "execution_count": null,
   "metadata": {
    "id": "UZ_C676rwqMF"
   },
   "outputs": [],
   "source": [
    "import matplotlib.pyplot as plt\n",
    "\n",
    "Ex,Ey = EField(charges,X,Y)\n",
    "\n",
    "fig, ax = plt.subplots()\n",
    "q = ax.quiver(X, Y, Ex, Ey)\n",
    "\n",
    "plt.show()"
   ]
  }
 ],
 "metadata": {
  "colab": {
   "collapsed_sections": [],
   "name": "CIT 3.2 Electric Field for Multiple Point Charges.ipynb",
   "provenance": []
  },
  "kernelspec": {
   "display_name": "Python 3",
   "language": "python",
   "name": "python3"
  },
  "language_info": {
   "codemirror_mode": {
    "name": "ipython",
    "version": 3
   },
   "file_extension": ".py",
   "mimetype": "text/x-python",
   "name": "python",
   "nbconvert_exporter": "python",
   "pygments_lexer": "ipython3",
   "version": "3.7.6"
  }
 },
 "nbformat": 4,
 "nbformat_minor": 1
}
