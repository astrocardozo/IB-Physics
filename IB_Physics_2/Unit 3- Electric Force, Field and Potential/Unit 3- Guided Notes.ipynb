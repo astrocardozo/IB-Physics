{
 "cells": [
  {
   "cell_type": "code",
   "execution_count": 4,
   "metadata": {},
   "outputs": [
    {
     "data": {
      "text/html": [
       "<div id=\"glowscript\" class=\"glowscript\"></div>"
      ],
      "text/plain": [
       "<IPython.core.display.HTML object>"
      ]
     },
     "metadata": {},
     "output_type": "display_data"
    },
    {
     "data": {
      "application/javascript": "if (typeof Jupyter !== \"undefined\") { window.__context = { glowscript_container: $(\"#glowscript\").removeAttr(\"id\")};}else{ element.textContent = ' ';}",
      "text/plain": [
       "<IPython.core.display.Javascript object>"
      ]
     },
     "metadata": {},
     "output_type": "display_data"
    }
   ],
   "source": [
    "import numpy as np  \n",
    "import matplotlib.pyplot as plt\n",
    "import pandas as pd\n",
    "%matplotlib inline\n",
    "from vpython import *\n"
   ]
  },
  {
   "cell_type": "code",
   "execution_count": 7,
   "id": "a59b7bca",
   "metadata": {},
   "outputs": [],
   "source": [
    "def F_e(K,q1,q2,r):\n",
    "    F_e = K*np.abs(q1*q2)/r**2\n",
    "    return F_e\n",
    "\n"
   ]
  },
  {
   "cell_type": "code",
   "execution_count": 16,
   "id": "05a293eb",
   "metadata": {},
   "outputs": [
    {
     "data": {
      "text/plain": [
       "Text(0.5, 1.0, 'Electrostatic Force vs Radius')"
      ]
     },
     "execution_count": 16,
     "metadata": {},
     "output_type": "execute_result"
    },
    {
     "data": {
      "image/png": "[encoded data removed]",
      "text/plain": [
       "<Figure size 432x288 with 1 Axes>"
      ]
     },
     "metadata": {
      "needs_background": "light"
     },
     "output_type": "display_data"
    }
   ],
   "source": [
    "K = 8.99E-9\n",
    "q1 = 7.4E-6\n",
    "q2 = -3.6E-6\n",
    "r = np.linspace(10,100,20)\n",
    "y = F_e(K,q1,q2,r)\n",
    "plt.scatter(y,r)\n",
    "plt.xlabel('Radius (m)')\n",
    "plt.ylabel('Electrostatic Force (N)')\n",
    "plt.title('Electrostatic Force vs Radius')"
   ]
  },
  {
   "cell_type": "code",
   "execution_count": 23,
   "id": "620ff0cd",
   "metadata": {},
   "outputs": [
    {
     "data": {
      "text/plain": [
       "Text(0.5, 1.0, 'Linearized Electrostatic Force vs Radius')"
      ]
     },
     "execution_count": 23,
     "metadata": {},
     "output_type": "execute_result"
    },
    {
     "data": {
      "image/png": "[encoded data removed]",
      "text/plain": [
       "<Figure size 432x288 with 1 Axes>"
      ]
     },
     "metadata": {
      "needs_background": "light"
     },
     "output_type": "display_data"
    }
   ],
   "source": [
    "K = 8.99E-9\n",
    "q1 = 7.4E-6\n",
    "q2 = -3.6E-6\n",
    "r = np.linspace(10,100,20)\n",
    "y = F_e(K,q1,q2,r)\n",
    "plt.scatter(y,1/r**2)\n",
    "plt.xlabel('1/Radius^2 (m^-2)')\n",
    "plt.ylabel('Electrostatic Force (N)')\n",
    "plt.title('Linearized Electrostatic Force vs Radius')"
   ]
  },
  {
   "cell_type": "code",
   "execution_count": null,
   "id": "765b3430",
   "metadata": {},
   "outputs": [],
   "source": [
    "#Here we set up out unit base vectors to give us a point of reference in our simulated space\n",
    "xaxis=cylinder(color=vector(1,0,0), pos=vector(0,0,0), axis=vector(1,0,0), radius=0.1, opacity=0.5)\n",
    "xlbl=label(pos=vector(1.2,0,0), text=\"X\", color=color.red, opacity=0.5, height=20, box=0)\n",
    "yaxis=cylinder(color=color.green, pos=vector(0,0,0), axis=vector(0,1,0), radius=0.1, opacity=0.5)\n",
    "ylbl=label(pos=vector(0,1.2,0), text=\"Y\", color=color.green, opacity=0.5, height=20, box=0)\n",
    "zaxis=cylinder(color=color.blue, pos=vector(0,0,0), axis=vector(0,0,1), radius=0.1, opacity=0.5)\n",
    "xlbl=label(pos=vector(0,0,1.2), text=\"Z\", color=color.blue, opacity=0.5, height=20, box=0)"
   ]
  },
  {
   "cell_type": "code",
   "execution_count": null,
   "id": "6d2333dd",
   "metadata": {},
   "outputs": [],
   "source": [
    "scene = canvas()        #Here we set up the the scene for our simulated space\n",
    "scene.width = 700\n",
    "scene.height = 800\n",
    "scene.background = color.white\n",
    "scene.range = 18\n",
    "scene.center = vector(0,0,0)\n",
    "\n",
    " "
   ]
  },
  {
   "cell_type": "code",
   "execution_count": null,
   "id": "8f30d54e",
   "metadata": {},
   "outputs": [],
   "source": [
    "scene = canvas()\n",
    "scene.width = 700\n",
    "scene.height = 800\n",
    "scene.background = color.white\n",
    "scene.range = 18\n",
    "scene.center = vector(0,0,0)\n",
    "\n",
    "obsloc = []\n",
    "arrows = []\n",
    "\n",
    "K = 15\n",
    "q = sphere(pos=vector(0,0,0), color=color.red, radius=0.6, charge=1)\n",
    "\n",
    "vecspace = arange(-12, 13, 3)\n",
    "for x in vecspace:\n",
    "    for y in vecspace:\n",
    "        for z in vecspace:\n",
    "            obsloc.append(vector(x,y,z))\n",
    "            a = arrow(pos=vector(x,y,z), axis=vector(0, 0.1, 0), color=color.orange, shaftwidth=0.2)\n",
    "            r = a.pos-q.pos\n",
    "            if mag(r) == 0:\n",
    "                a.axis = vector(0,0,0)\n",
    "            else:\n",
    "                E = K*q.charge*r/(mag(r)**3)\n",
    "                a.axis = E\n",
    "            arrows.append(a)"
   ]
  },
  {
   "cell_type": "code",
   "execution_count": null,
   "id": "1153ae93",
   "metadata": {},
   "outputs": [],
   "source": [
    "scene = canvas()\n",
    "scene.width = 700\n",
    "scene.height = 800\n",
    "scene.background = color.white\n",
    "scene.range = 18\n",
    "scene.center = vector(0,0,0)\n",
    "\n",
    "obsloc = []\n",
    "arrows = []\n",
    "\n",
    "K = 15\n",
    "q = sphere(pos=vector(0,0,0), color=color.blue, radius=0.6, charge=-1)\n",
    "\n",
    "vecspace = arange(-12, 13, 3)\n",
    "for x in vecspace:\n",
    "    for y in vecspace:\n",
    "        for z in vecspace:\n",
    "            obsloc.append(vector(x,y,z))\n",
    "            a = arrow(pos=vector(x,y,z), axis=vector(0, 0.1, 0), color=color.orange, shaftwidth=0.2)\n",
    "            r = a.pos-q.pos\n",
    "            if mag(r) == 0:\n",
    "                a.axis = vector(0,0,0)\n",
    "            else:\n",
    "                E = K*q.charge*r/(mag(r)**3)\n",
    "                a.axis = E\n",
    "            arrows.append(a)"
   ]
  }
 ],
 "metadata": {
  "kernelspec": {
   "display_name": "Python 3.7.6 ('base')",
   "language": "python",
   "name": "python3"
  },
  "language_info": {
   "codemirror_mode": {
    "name": "ipython",
    "version": 3
   },
   "file_extension": ".py",
   "mimetype": "text/x-python",
   "name": "python",
   "nbconvert_exporter": "python",
   "pygments_lexer": "ipython3",
   "version": "3.7.6"
  },
  "vscode": {
   "interpreter": {
    "hash": "251d706469fcb9e49b5983007650dd7661e3383df7865dfc6d03a1cc473def10"
   }
  }
 },
 "nbformat": 4,
 "nbformat_minor": 5
}
