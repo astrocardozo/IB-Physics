{
 "cells": [
  {
   "cell_type": "code",
   "execution_count": null,
   "metadata": {},
   "outputs": [],
   "source": [
    "import numpy as np  \n",
    "import matplotlib.pyplot as plt\n",
    "import pandas as pd\n",
    "%matplotlib inline\n",
    "from vpython import *\n"
   ]
  },
  {
   "cell_type": "code",
   "execution_count": null,
   "id": "765b3430",
   "metadata": {},
   "outputs": [],
   "source": [
    "xaxis=cylinder(color=vector(1,0,0), pos=vector(0,0,0), axis=vector(1,0,0), radius=0.1, opacity=0.5)\n",
    "xlbl=label(pos=vector(1.2,0,0), text=\"X\", color=color.red, opacity=0.5, height=20, box=0)\n",
    "yaxis=cylinder(color=color.green, pos=vector(0,0,0), axis=vector(0,1,0), radius=0.1, opacity=0.5)\n",
    "ylbl=label(pos=vector(0,1.2,0), text=\"Y\", color=color.green, opacity=0.5, height=20, box=0)\n",
    "zaxis=cylinder(color=color.blue, pos=vector(0,0,0), axis=vector(0,0,1), radius=0.1, opacity=0.5)\n",
    "xlbl=label(pos=vector(0,0,1.2), text=\"Z\", color=color.blue, opacity=0.5, height=20, box=0)"
   ]
  },
  {
   "cell_type": "code",
   "execution_count": null,
   "id": "8f30d54e",
   "metadata": {},
   "outputs": [],
   "source": [
    "scene = canvas()\n",
    "scene.width = 700\n",
    "scene.height = 800\n",
    "scene.background = color.white\n",
    "scene.range = 18\n",
    "scene.center = vector(0,0,0)\n",
    "\n",
    "obsloc = []\n",
    "arrows = []\n",
    "\n",
    "K = 15\n",
    "q = sphere(pos=vector(0,0,0), color=color.red, radius=0.6, charge=1)\n",
    "\n",
    "vecspace = arange(-12, 13, 3)\n",
    "for x in vecspace:\n",
    "    for y in vecspace:\n",
    "        for z in vecspace:\n",
    "            obsloc.append(vector(x,y,z))\n",
    "            a = arrow(pos=vector(x,y,z), axis=vector(0, 0.1, 0), color=color.orange, shaftwidth=0.2)\n",
    "            r = a.pos-q.pos\n",
    "            if mag(r) == 0:\n",
    "                a.axis = vector(0,0,0)\n",
    "            else:\n",
    "                E = K*q.charge*r/(mag(r)**3)\n",
    "                a.axis = E\n",
    "            arrows.append(a)"
   ]
  },
  {
   "cell_type": "code",
   "execution_count": null,
   "id": "1153ae93",
   "metadata": {},
   "outputs": [],
   "source": [
    "scene = canvas()\n",
    "scene.width = 700\n",
    "scene.height = 800\n",
    "scene.background = color.white\n",
    "scene.range = 18\n",
    "scene.center = vector(0,0,0)\n",
    "\n",
    "obsloc = []\n",
    "arrows = []\n",
    "\n",
    "K = 15\n",
    "q = sphere(pos=vector(0,0,0), color=color.blue, radius=0.6, charge=-1)\n",
    "\n",
    "vecspace = arange(-12, 13, 3)\n",
    "for x in vecspace:\n",
    "    for y in vecspace:\n",
    "        for z in vecspace:\n",
    "            obsloc.append(vector(x,y,z))\n",
    "            a = arrow(pos=vector(x,y,z), axis=vector(0, 0.1, 0), color=color.orange, shaftwidth=0.2)\n",
    "            r = a.pos-q.pos\n",
    "            if mag(r) == 0:\n",
    "                a.axis = vector(0,0,0)\n",
    "            else:\n",
    "                E = K*q.charge*r/(mag(r)**3)\n",
    "                a.axis = E\n",
    "            arrows.append(a)"
   ]
  }
 ],
 "metadata": {
  "language_info": {
   "name": "python"
  }
 },
 "nbformat": 4,
 "nbformat_minor": 5
}
