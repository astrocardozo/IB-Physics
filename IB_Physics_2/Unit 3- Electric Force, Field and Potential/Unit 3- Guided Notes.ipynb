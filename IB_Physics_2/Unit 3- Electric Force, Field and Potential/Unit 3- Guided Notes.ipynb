{
 "cells": [
  {
   "cell_type": "markdown",
   "id": "776925aa",
   "metadata": {},
   "source": [
    "# Objectives\n",
    "\n",
    "By the end of this section, you will be able to:\n",
    "\n",
    "* State Coulomb's law in terms of how the electrostatic force changes with the distance between two objects.\n",
    "* Calculate the electrostatic force between two point charges, such as electrons or protons.\n",
    "* Compare the electrostatic force to the gravitational attraction for a proton and an electron; for a human and the Earth."
   ]
  },
  {
   "cell_type": "code",
   "execution_count": null,
   "id": "78af7a40",
   "metadata": {},
   "outputs": [],
   "source": [
    "import numpy as np  \n",
    "import matplotlib.pyplot as plt\n",
    "from matplotlib import cm \n",
    "import pandas as pd\n",
    "from vpython import *\n",
    "\n",
    "%matplotlib notebook"
   ]
  },
  {
   "cell_type": "markdown",
   "id": "7296ed98",
   "metadata": {},
   "source": [
    "Through the work of scientists in the late 18th century, the main features of the **electrostatic force**—the existence of two types of **charge**, the observation that like charges repel, unlike charges attract, and the decrease of force with distance—were eventually refined, and expressed as a mathematical formula. The mathematical formula for the electrostatic force is called **Coulomb's law** after the French physicist Charles Coulomb (1736–1806), who performed experiments and first proposed a formula to calculate it.\n",
    "\n",
    "Experimented with charged spheres. He found that: \n",
    "* Electrostatic force varied inversely with square of the distance between the spheres.\n",
    "* Electrostatic force varied directly with magnitude of the charge. \n",
    "\n",
    "He combined these discoveries to make his law.  \n",
    "\n",
    "\\begin{equation}\n",
    "  F = k \\frac{|q_1q_2|}{r^2}\n",
    "\\end{equation}\n",
    "\n",
    "Where $k = 8.99*10^9 Nm^2/C^2$\n",
    "\n",
    "In the cell below, we define **Coulomb's law** using the `def` function."
   ]
  },
  {
   "cell_type": "code",
   "execution_count": null,
   "id": "fe0fc89f",
   "metadata": {},
   "outputs": [],
   "source": [
    "def F_e(k,q1,q2,r):\n",
    "    F_e = k*np.abs(q1*q2)/r**2\n",
    "    return F_e"
   ]
  },
  {
   "cell_type": "markdown",
   "id": "04ee14d1",
   "metadata": {},
   "source": [
    "Now that we have defined our function, let's take a look at how the electrostatic force behaves between two oppositely charged particles. Lets define the charges $q_1=7.4\\mu C$ and $q_2=-3.6\\mu C$ and examine how the force changes as we move them from $0.1m$ to $1m$ apart. "
   ]
  },
  {
   "cell_type": "code",
   "execution_count": null,
   "id": "f82d8140",
   "metadata": {},
   "outputs": [],
   "source": [
    "#Define Coulombs constant and charges\n",
    "k = 8.99E9 \n",
    "q1 = 7.4E-6\n",
    "q2 = -3.6E-6\n",
    "#Create an array of points from 0.1m to 1m with 50 interations\n",
    "r = np.linspace(0.1,1,50) \n",
    "\n",
    "#Define varible for y-axis using our previously defined function\n",
    "y = F_e(k,q1,q2,r)   \n",
    "\n",
    "#Plot radius and defined varible andd set axis labels\n",
    "plt.scatter(r,y)\n",
    "plt.xlabel('Radius (m)')\n",
    "plt.ylabel('Electrostatic Force (N)')\n",
    "plt.title('Electrostatic Force vs Radius');"
   ]
  },
  {
   "cell_type": "markdown",
   "id": "365a220c",
   "metadata": {},
   "source": [
    "Notice how the electrostatic force attracting the two particles together is inversely proportional to the radius squared. "
   ]
  },
  {
   "cell_type": "code",
   "execution_count": null,
   "id": "7c724d29",
   "metadata": {},
   "outputs": [],
   "source": [
    "#Define a scene for the Vpython simulation\n",
    "scene = canvas()\n",
    "scene.width = 500\n",
    "scene.height = 600\n",
    "scene.background = color.white\n",
    "scene.range = 3\n",
    "scene.center = vector(2,0,0)\n",
    "\n",
    "\n",
    "#Create objects in the Vpython simulation scene \n",
    "electron = sphere(pos=vector(0,0,0), radius=0.5, color=color.blue, charge = -1)\n",
    "positron = sphere(pos=vector(4,0,0), radius=0.5, color=color.red, charge = 1)\n",
    "\n",
    "\n",
    "#Define new electric force function using the charged object created.\n",
    "def force_e(object1,object2):\n",
    "    k = 9E9\n",
    "    r = object1.pos - object2.pos\n",
    "    force_mag = k*object1.charge*object2.charge/mag(r)**2\n",
    "    force_vec = force_mag*hat(r)\n",
    "    scale = 3E-9\n",
    "    arrow(pos=object1.pos, axis=force_vec*scale, color=object2.color)\n",
    "    return force_vec\n",
    "    \n",
    "force_electron_positron = force_e(electron,positron)\n",
    "force_positron_electron = force_e(positron,electron)\n"
   ]
  },
  {
   "cell_type": "code",
   "execution_count": null,
   "id": "42e2b35d",
   "metadata": {},
   "outputs": [],
   "source": [
    "#Define a scene for the Vpython simulation\n",
    "scene = canvas()\n",
    "scene.width = 500\n",
    "scene.height = 600\n",
    "scene.background = color.white\n",
    "scene.range = 3\n",
    "scene.center = vector(2,0,0)\n",
    "\n",
    "\n",
    "#Create objects in the Vpython simulation scene \n",
    "positron1 = sphere(pos=vector(0,0,0), radius=0.5, color=color.red, charge = 1)\n",
    "positron2 = sphere(pos=vector(4,0,0), radius=0.5, color=color.red, charge = 1)\n",
    "\n",
    "\n",
    "force_positron1_positron2 = force_e(positron1,positron2)\n",
    "force_positron2_positron1 = force_e(positron2,positron1)"
   ]
  },
  {
   "cell_type": "code",
   "execution_count": null,
   "id": "fd05be04",
   "metadata": {},
   "outputs": [],
   "source": [
    "#Here we set up out unit base vectors to give us a point of reference in our simulated space\n",
    "xaxis=arrow(color=vector(1,0,0), pos=vector(0,0,0), axis=vector(1,0,0), radius=0.1, opacity=0.5)\n",
    "xlbl=label(pos=vector(1.2,0,0), text=\"X\", color=color.red, opacity=0.5, height=20, box=0)\n",
    "yaxis=arrow(color=color.green, pos=vector(0,0,0), axis=vector(0,1,0), radius=0.1, opacity=0.5)\n",
    "ylbl=label(pos=vector(0,1.2,0), text=\"Y\", color=color.green, opacity=0.5, height=20, box=0)\n",
    "zaxis=arrow(color=color.blue, pos=vector(0,0,0), axis=vector(0,0,1), radius=0.1, opacity=0.5)\n",
    "xlbl=label(pos=vector(0,0,1.2), text=\"Z\", color=color.blue, opacity=0.5, height=20, box=0)"
   ]
  },
  {
   "cell_type": "code",
   "execution_count": null,
   "id": "60d3ea0e",
   "metadata": {},
   "outputs": [],
   "source": [
    "scene = canvas()        #Here we set up the the scene for our simulated space\n",
    "scene.width = 700\n",
    "scene.height = 800\n",
    "scene.background = color.white\n",
    "scene.range = 18\n",
    "scene.center = vector(0,0,0)\n",
    "\n",
    " "
   ]
  },
  {
   "cell_type": "code",
   "execution_count": null,
   "id": "69d3bbc4",
   "metadata": {},
   "outputs": [],
   "source": [
    "scene = canvas()\n",
    "scene.width = 700\n",
    "scene.height = 800\n",
    "scene.background = color.white\n",
    "scene.range = 18\n",
    "scene.center = vector(0,0,0)\n",
    "\n",
    "obsloc = []\n",
    "arrows = []\n",
    "\n",
    "K = 15\n",
    "q = sphere(pos=vector(0,0,0), color=color.red, radius=0.6, charge=1)\n",
    "\n",
    "vecspace = arange(-12, 13, 2)\n",
    "for x in vecspace:\n",
    "    for y in vecspace:\n",
    "        for z in vecspace:\n",
    "            obsloc.append(vector(x,y,z))\n",
    "            a = arrow(pos=vector(x,y,z), axis=vector(0, 0.1, 0), color=color.orange, shaftwidth=0.2)\n",
    "            r = a.pos-q.pos\n",
    "            if mag(r) == 0:\n",
    "                a.axis = vector(0,0,0)\n",
    "            else:\n",
    "                E = K*q.charge*r/(mag(r)**3)\n",
    "                a.axis = E\n",
    "            arrows.append(a)\n",
    "            "
   ]
  },
  {
   "cell_type": "code",
   "execution_count": null,
   "id": "fe12e612",
   "metadata": {},
   "outputs": [],
   "source": [
    "scene = canvas()\n",
    "scene.width = 700\n",
    "scene.height = 800\n",
    "scene.background = color.white\n",
    "scene.range = 18\n",
    "scene.center = vector(0,0,0)\n",
    "\n",
    "obsloc = []\n",
    "arrows = []\n",
    "\n",
    "K = 15\n",
    "q = sphere(pos=vector(0,0,0), color=color.blue, radius=0.6, charge=-3)\n",
    "\n",
    "vecspace = arange(-12, 13, 4)\n",
    "for x in vecspace:\n",
    "    for y in vecspace:\n",
    "        for z in vecspace:\n",
    "            obsloc.append(vector(x,y,z))\n",
    "            a = arrow(pos=vector(x,y,z), axis=vector(0, 0.1, 0), color=color.orange, shaftwidth=0.2)\n",
    "            r = a.pos-q.pos\n",
    "            if mag(r) == 0:\n",
    "                a.axis = vector(0,0,0)\n",
    "            else:\n",
    "                E = K*q.charge*r/(mag(r)**3)\n",
    "                a.axis = E\n",
    "            arrows.append(a)"
   ]
  },
  {
   "cell_type": "code",
   "execution_count": null,
   "id": "4895c81e",
   "metadata": {},
   "outputs": [],
   "source": [
    "scene = canvas()\n",
    "scene.width = 500\n",
    "scene.height = 600\n",
    "scene.background = color.white\n",
    "scene.range = 0.1\n",
    "scene.center = vector(0,0,0)\n",
    "\n",
    "k = 9e9\n",
    "q = 1e-9\n",
    "s = 0.01\n",
    "\n",
    "q_n = sphere(pos=vector(-s/2,0,0), radius=s/5, color=color.blue, charge = -q)\n",
    "q_p = sphere(pos=vector(s/2,0,0), radius=s/5, color=color.red, charge = q)\n",
    "\n",
    "# qn.q=-q\n",
    "# qp.q=q\n",
    "\n",
    "R = 0.038\n",
    "theta = 0\n",
    "\n",
    "N = 24\n",
    "dtheta = 2*pi/N\n",
    "Escale = 3e-6\n",
    "\n",
    "while theta<2*pi:\n",
    "    r_o = R*vector(cos(theta),sin(theta),0)\n",
    "    \n",
    "    r_p = r_o-q_p.pos\n",
    "    r_n = r_o-q_n.pos\n",
    "    E_p = k*q_p.charge*r_p/mag(r_p)**3\n",
    "    \n",
    "    E_n = k*q_n.charge*r_n/mag(r_n)**3\n",
    "    E = E_p + E_n\n",
    "    E_vector = arrow(pos=r_o, axis=Escale*E, color = color.orange)\n",
    "    theta = theta + dtheta\n",
    "\n",
    "theta=0\n",
    "\n",
    "while theta<2*pi:\n",
    "    r_o = R*vector(cos(theta),0,sin(theta))\n",
    "    \n",
    "    r_p = r_o-q_p.pos\n",
    "    r_n = r_o-q_n.pos\n",
    "    E_p = k*q_p.charge*r_p/mag(r_p)**3\n",
    "    \n",
    "    E_n = k*q_n.charge*r_n/mag(r_n)**3\n",
    "    E = E_p + E_n\n",
    "    E_vector = arrow(pos=r_o, axis=Escale*E,color = color.orange)\n",
    "    theta = theta+ dtheta\n",
    "\n",
    "theta=0\n",
    "\n",
    "while theta<2*pi:\n",
    "    r_o = R*vector(0,cos(theta),sin(theta))\n",
    "    \n",
    "    r_p = r_o-q_p.pos\n",
    "    r_n = r_o-q_n.pos\n",
    "    E_p = k*q_p.charge*r_p/mag(r_p)**3\n",
    "    \n",
    "    E_n = k*q_n.charge*r_n/mag(r_n)**3\n",
    "    E = E_p + E_n\n",
    "    E_vector = arrow(pos=r_o, axis=Escale*E,color = color.orange)\n",
    "    theta = theta+ dtheta\n"
   ]
  },
  {
   "cell_type": "code",
   "execution_count": null,
   "id": "ef9c5b3e",
   "metadata": {},
   "outputs": [],
   "source": [
    "K = 8.99E-9\n",
    "q1 = 7.4E-6\n",
    "q2 = -3.6E-6\n",
    "r = np.linspace(10,100,20)\n",
    "y = F_e(K,q1,q2,r)\n",
    "plt.scatter(1/r**2,y)\n",
    "plt.xlabel('1/Radius^2 (m^-2)')\n",
    "plt.ylabel('Electrostatic Force (N)')\n",
    "plt.title('Linearized Electrostatic Force vs Radius')"
   ]
  },
  {
   "cell_type": "code",
   "execution_count": null,
   "id": "6d5c4157",
   "metadata": {},
   "outputs": [],
   "source": []
  }
 ],
 "metadata": {
  "kernelspec": {
   "display_name": "Python 3",
   "language": "python",
   "name": "python3"
  },
  "language_info": {
   "codemirror_mode": {
    "name": "ipython",
    "version": 3
   },
   "file_extension": ".py",
   "mimetype": "text/x-python",
   "name": "python",
   "nbconvert_exporter": "python",
   "pygments_lexer": "ipython3",
   "version": "3.7.6"
  },
  "vscode": {
   "interpreter": {
    "hash": "251d706469fcb9e49b5983007650dd7661e3383df7865dfc6d03a1cc473def10"
   }
  }
 },
 "nbformat": 4,
 "nbformat_minor": 5
}
