{
 "cells": [
  {
   "cell_type": "markdown",
   "id": "fadd5991",
   "metadata": {},
   "source": [
    "# Objectives\n",
    "\n",
    "By the end of this section, you will be able to:\n",
    "\n",
    "* Calculate the total force (magnitude and direction) exerted on a test charge from more than one charge.\n",
    "* Describe an electric field diagram of a positive point charge and of a negative point charge with twice the magnitude of the positive charge.\n",
    "* Draw the electric field lines between two points of the same charge and between two points of opposite charge."
   ]
  },
  {
   "cell_type": "code",
   "execution_count": 1,
   "id": "fc089c14",
   "metadata": {},
   "outputs": [
    {
     "data": {
      "text/html": [
       "<div id=\"glowscript\" class=\"glowscript\"></div>"
      ],
      "text/plain": [
       "<IPython.core.display.HTML object>"
      ]
     },
     "metadata": {},
     "output_type": "display_data"
    },
    {
     "data": {
      "application/javascript": [
       "if (typeof Jupyter !== \"undefined\") { window.__context = { glowscript_container: $(\"#glowscript\").removeAttr(\"id\")};}else{ element.textContent = ' ';}"
      ],
      "text/plain": [
       "<IPython.core.display.Javascript object>"
      ]
     },
     "metadata": {},
     "output_type": "display_data"
    }
   ],
   "source": [
    "import numpy as np  \n",
    "import matplotlib.pyplot as plt\n",
    "from matplotlib import cm \n",
    "import pandas as pd\n",
    "from vpython import *\n",
    "\n",
    "%matplotlib notebook"
   ]
  },
  {
   "cell_type": "code",
   "execution_count": 2,
   "id": "69b51b9d",
   "metadata": {},
   "outputs": [
    {
     "data": {
      "text/html": [
       "<div id=\"glowscript\" class=\"glowscript\"></div>"
      ],
      "text/plain": [
       "<IPython.core.display.HTML object>"
      ]
     },
     "metadata": {},
     "output_type": "display_data"
    },
    {
     "data": {
      "application/javascript": [
       "if (typeof Jupyter !== \"undefined\") { window.__context = { glowscript_container: $(\"#glowscript\").removeAttr(\"id\")};}else{ element.textContent = ' ';}"
      ],
      "text/plain": [
       "<IPython.core.display.Javascript object>"
      ]
     },
     "metadata": {},
     "output_type": "display_data"
    },
    {
     "data": {
      "application/javascript": [
       "if (typeof Jupyter !== \"undefined\") {require.undef(\"nbextensions/vpython_libraries/glow.min\");}else{element.textContent = ' ';}"
      ],
      "text/plain": [
       "<IPython.core.display.Javascript object>"
      ]
     },
     "metadata": {},
     "output_type": "display_data"
    },
    {
     "data": {
      "application/javascript": [
       "if (typeof Jupyter !== \"undefined\") {require.undef(\"nbextensions/vpython_libraries/glowcomm\");}else{element.textContent = ' ';}"
      ],
      "text/plain": [
       "<IPython.core.display.Javascript object>"
      ]
     },
     "metadata": {},
     "output_type": "display_data"
    },
    {
     "data": {
      "application/javascript": [
       "if (typeof Jupyter !== \"undefined\") {require.undef(\"nbextensions/vpython_libraries/jquery-ui.custom.min\");}else{element.textContent = ' ';}"
      ],
      "text/plain": [
       "<IPython.core.display.Javascript object>"
      ]
     },
     "metadata": {},
     "output_type": "display_data"
    },
    {
     "data": {
      "application/javascript": [
       "if (typeof Jupyter !== \"undefined\") {require([\"nbextensions/vpython_libraries/glow.min\"], function(){console.log(\"GLOW LOADED\");});}else{element.textContent = ' ';}"
      ],
      "text/plain": [
       "<IPython.core.display.Javascript object>"
      ]
     },
     "metadata": {},
     "output_type": "display_data"
    },
    {
     "data": {
      "application/javascript": [
       "if (typeof Jupyter !== \"undefined\") {require([\"nbextensions/vpython_libraries/glowcomm\"], function(){console.log(\"GLOWCOMM LOADED\");});}else{element.textContent = ' ';}"
      ],
      "text/plain": [
       "<IPython.core.display.Javascript object>"
      ]
     },
     "metadata": {},
     "output_type": "display_data"
    },
    {
     "data": {
      "application/javascript": [
       "if (typeof Jupyter !== \"undefined\") {require([\"nbextensions/vpython_libraries/jquery-ui.custom.min\"], function(){console.log(\"JQUERY LOADED\");});}else{element.textContent = ' ';}"
      ],
      "text/plain": [
       "<IPython.core.display.Javascript object>"
      ]
     },
     "metadata": {},
     "output_type": "display_data"
    }
   ],
   "source": [
    "# Defining canvas for 3D simulation\n",
    "\n",
    "scene = canvas(title='Charged Particle in Electric Field', width=500, height=400, center=vector(0,0,0), align=\"left\",\n",
    "               background=vector(1,1,1))\n",
    "\n",
    "# Defining Box and particle\n",
    "\n",
    "Ebox = 10 # Size of box of electric field\n",
    "V = 200\n",
    "Sim_max = 30 # Size of simulation area\n",
    "\n",
    "P_plate = box(size = vector(20,0.5,10),pos=vector(0,-5,0), color = color.red)\n",
    "N_plate = box(size = vector(20,0.5,10),pos=vector(0,5,0), color = color.blue)\n",
    "Efield = box(pos = vector (0,0,0), size = vector (20,10,10), color = color.cyan, opacity=0.2)\n",
    "\n",
    "particle = sphere( pos = vector(-20,0,0), radius = 0.5, velocity = vec(10,0,0), charge = 1, mass = 10, \n",
    "                  color =color.blue, make_trail=True, trail_type=\"points\", interval=20, retain=100)\n",
    "attach_arrow(particle, \"velocity\", color=color.orange)\n",
    "\n",
    "# Defining function to calculation Electric field\n",
    "\n",
    "def E(r):\n",
    "    E_mag = V/Ebox\n",
    "    E_dir = norm(vec(0,1,0))\n",
    "    if (r.x>= -Efield.size.x/2. and r.x <= Efield.size.x/2. and r.y>= -Efield.size.y/2. and r.y <= Efield.size.y/2. and r.z>= -Efield.size.z/2. and r.z <= Efield.size.z/2.):\n",
    "        E_val = E_mag*E_dir\n",
    "    else:\n",
    "        E_val = 0*E_dir\n",
    "    return E_val\n",
    "\n",
    "# Defining function to calculate acceleration due to electric force\n",
    "\n",
    "def acc(a):\n",
    "    force = a.charge*E(a.pos)\n",
    "    return force/a.mass\n",
    "\n",
    "# Defining Graph Canvas and Graph for motion of particle\n",
    "\n",
    "graph = graph(width=500,height=400,align=\"right\", title='Velocity Vs. Time', xtitle='Time',ytitle='Velocity', foreground=color.black, background=color.white)\n",
    "\n",
    "Graph_xvel = gcurve(graph = graph, color=color.blue)\n",
    "Graph_yvel = gcurve(graph = graph, color=color.red)\n",
    "\n",
    "# Updating postion of particle in loop\n",
    "\n",
    "t = 0\n",
    "dt = 0.002\n",
    "\n",
    "while (t <15):\n",
    "    rate(100)\n",
    "    particle.velocity = particle.velocity + acc(particle)*dt\n",
    "    particle.pos = particle.pos + particle.velocity*dt\n",
    "    \n",
    "    Graph_xvel.plot(pos=(t,particle.velocity.x))\n",
    "    Graph_yvel.plot(pos=(t,particle.velocity.y))\n",
    "    if (particle.pos.x > Sim_max or particle.pos.x < -Sim_max):  \n",
    "    # Stop updating position of particle if goes outside region of interest\n",
    "        break\n",
    "    t = t+dt"
   ]
  },
  {
   "cell_type": "code",
   "execution_count": null,
   "id": "37b739c0",
   "metadata": {},
   "outputs": [],
   "source": [
    "# Defining canvas for 3D simulation\n",
    "\n",
    "scene = canvas(title='Charged Particle in Electric Field', width=500, height=400, center=vector(0,0,0), align=\"left\",\n",
    "               background=vector(1,1,1))\n",
    "\n",
    "# Defining Box and particle\n",
    "\n",
    "Ebox = 10 # Size of box of electric field\n",
    "V = 500\n",
    "Sim_max = 30 # Size of simulation area\n",
    "\n",
    "P_plate = box(size = vector(0.5,10,10),pos=vector(-25,0,0), color = color.red)\n",
    "N_plate = box(size = vector(0.5,10,10),pos=vector(25,0,0), color = color.blue)\n",
    "Efield = box(pos = vector (0,0,0), size = vector (50,10,10), color = color.cyan, opacity=0.2)\n",
    "\n",
    "particle = sphere( pos = vector(-24,0,0), radius = 0.5, velocity = vec(10,0,0), charge = 1, mass = 10, \n",
    "                  color =color.blue, make_trail=True, trail_type=\"points\", interval=20, retain=100)\n",
    "attach_arrow(particle, \"velocity\", color=color.orange)\n",
    "\n",
    "# Defining function to calculation Electric field\n",
    "\n",
    "def E(r):\n",
    "    E_mag = V/Ebox\n",
    "    E_dir = norm(vec(1,0,0))\n",
    "    if (r.x>= -Efield.size.x/2. and r.x <= Efield.size.x/2. and r.y>= -Efield.size.y/2. and r.y <= Efield.size.y/2. and r.z>= -Efield.size.z/2. and r.z <= Efield.size.z/2.):\n",
    "        E_val = E_mag*E_dir\n",
    "    else:\n",
    "        E_val = 0*E_dir\n",
    "    return E_val\n",
    "\n",
    "# Defining function to calculate acceleration due to electric force\n",
    "\n",
    "def acc(a):\n",
    "    force = a.charge*E(a.pos)\n",
    "    return force/a.mass\n",
    "\n",
    "# Defining Graph Canvas and Graph for motion of particle\n",
    "\n",
    "graph = graph(width=500,height=400,align=\"right\", title='Velocity Vs. Time', xtitle='Time',ytitle='Velocity', foreground=color.black, background=color.white)\n",
    "\n",
    "Graph_xvel = gcurve(graph = graph, color=color.blue)\n",
    "\n",
    "\n",
    "\n",
    "# Updating postion of particle in loop\n",
    "\n",
    "t = 0\n",
    "dt = 0.002\n",
    "\n",
    "while (t <15):\n",
    "    rate(100)\n",
    "    particle.velocity = particle.velocity + acc(particle)*dt\n",
    "    particle.pos = particle.pos + particle.velocity*dt\n",
    "    \n",
    "    Graph_xvel.plot(pos=(t,particle.velocity.x))\n",
    "    if (particle.pos.x > Sim_max or particle.pos.x < -Sim_max):  \n",
    "    # Stop updating position of particle if goes outside region of interest\n",
    "        break\n",
    "    t = t+dt"
   ]
  },
  {
   "cell_type": "code",
   "execution_count": null,
   "id": "47d254ee",
   "metadata": {},
   "outputs": [],
   "source": []
  }
 ],
 "metadata": {
  "kernelspec": {
   "display_name": "Python 3",
   "language": "python",
   "name": "python3"
  },
  "language_info": {
   "codemirror_mode": {
    "name": "ipython",
    "version": 3
   },
   "file_extension": ".py",
   "mimetype": "text/x-python",
   "name": "python",
   "nbconvert_exporter": "python",
   "pygments_lexer": "ipython3",
   "version": "3.7.6"
  }
 },
 "nbformat": 4,
 "nbformat_minor": 5
}
