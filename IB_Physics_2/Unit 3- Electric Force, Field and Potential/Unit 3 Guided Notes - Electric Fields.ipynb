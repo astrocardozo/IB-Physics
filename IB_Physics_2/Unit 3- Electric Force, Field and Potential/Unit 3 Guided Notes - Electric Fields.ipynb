{
 "cells": [
  {
   "cell_type": "markdown",
   "id": "a8ddaf93",
   "metadata": {},
   "source": [
    "# Objectives\n",
    "\n",
    "By the end of this section, you will be able to:\n",
    "\n",
    "* Calculate the total force (magnitude and direction) exerted on a test charge from more than one charge.\n",
    "* Describe an electric field diagram of a positive point charge and of a negative point charge with twice the magnitude of the positive charge.\n",
    "* Draw the electric field lines between two points of the same charge and between two points of opposite charge."
   ]
  },
  {
   "cell_type": "code",
   "execution_count": 1,
   "id": "4d089dab",
   "metadata": {},
   "outputs": [
    {
     "data": {
      "text/html": [
       "<div id=\"glowscript\" class=\"glowscript\"></div>"
      ],
      "text/plain": [
       "<IPython.core.display.HTML object>"
      ]
     },
     "metadata": {},
     "output_type": "display_data"
    },
    {
     "data": {
      "application/javascript": [
       "if (typeof Jupyter !== \"undefined\") { window.__context = { glowscript_container: $(\"#glowscript\").removeAttr(\"id\")};}else{ element.textContent = ' ';}"
      ],
      "text/plain": [
       "<IPython.core.display.Javascript object>"
      ]
     },
     "metadata": {},
     "output_type": "display_data"
    }
   ],
   "source": [
    "import numpy as np  \n",
    "import matplotlib.pyplot as plt\n",
    "from matplotlib import cm \n",
    "import pandas as pd\n",
    "from vpython import *\n",
    "\n",
    "%matplotlib notebook"
   ]
  },
  {
   "cell_type": "markdown",
   "id": "4bcdaee8",
   "metadata": {},
   "source": [
    "# Electric Fields\n",
    "\n",
    "A field is a way of conceptualizing and mapping the force that surrounds any object and acts on another object at a distance without apparent physical connection. For example, the gravitational field surrounding the earth (and all other masses) represents the gravitational force that would be experienced if another mass were placed at a given point within the field.\n",
    "\n",
    "In the same way, the Coulomb force field surrounding any charge extends throughout space. Using Coulomb's law, \n",
    "\n",
    "\\begin{equation}\n",
    "  F = k \\frac{|q_1q_2|}{r^2}\n",
    "\\end{equation}\n",
    "\n",
    "its magnitude is given by the equation  \n",
    "\n",
    "\\begin{equation}\n",
    "  F = k \\frac{|qQ|}{r^2}\n",
    "\\end{equation}\n",
    "\n",
    ", for a **point charge** (a particle having a charge  $Q$ ) acting on a **test charge**  $q$  at a distance  $r$. Both the magnitude and direction of the Coulomb force field depend on  $Q$  and the test charge  $q$. It is by convention that we use a positive test charge. After a bit of algebra we get our final equationf or the electric field to be:\n",
    "\n",
    "\\begin{equation}\n",
    "  E = k \\frac{|Q|}{r^2}\n",
    "\\end{equation}\n",
    "\n",
    "The electric field is thus seen to depend only on the charge  $Q$  and the distance  $r$ ; it is completely independent of the test charge  $q$."
   ]
  },
  {
   "cell_type": "markdown",
   "id": "219d415f",
   "metadata": {},
   "source": [
    "Just as we did with **Coulomb's Law** previously, we can use the `def` function to produce a function we can use to model the electric field of a charged particle. Run the cell below to define our electric field function."
   ]
  },
  {
   "cell_type": "code",
   "execution_count": 2,
   "id": "bcac5aac",
   "metadata": {},
   "outputs": [],
   "source": [
    "def E(k,Q,r):\n",
    "    E = k*np.abs(Q)/r**2\n",
    "    return E"
   ]
  },
  {
   "cell_type": "markdown",
   "id": "d43ab42c",
   "metadata": {},
   "source": [
    "Now that we have defined the E field function, we can define our point charge and our radius to model the electric field around a point charge. Run the cell below to examine how the **electric field** as we move them from  0.1𝑚  to  1𝑚  apart."
   ]
  },
  {
   "cell_type": "code",
   "execution_count": null,
   "id": "049bde39",
   "metadata": {},
   "outputs": [],
   "source": [
    "#Define Coulombs constant and charges\n",
    "k = 8.99E9 \n",
    "Q = 1E-9\n",
    "\n",
    "\n",
    "#Create an array of points from 0.1m to 1m with 50 interations\n",
    "r = np.linspace(0.1,1,50) \n",
    "\n",
    "#Define varible for y-axis using our previously defined function\n",
    "y = E(k,Q,r)   \n",
    "\n",
    "#Plot radius and defined varible andd set axis labels\n",
    "plt.scatter(r,y)\n",
    "plt.xlabel('Radius (m)')\n",
    "plt.ylabel('Electric Field Strength (N/C)')\n",
    "plt.title('Electric Field vs Radius');"
   ]
  },
  {
   "cell_type": "markdown",
   "id": "46032504",
   "metadata": {},
   "source": [
    "To model this in our VPython enviroment, we are going to need to set up an observation location for each point starting starting from the origin and determine the electric field at each location. Let's start with just the `x-direction`. We will observe the electric field at each point from $0$ to $2\\pi$. We can use a `while` loop to produce vectors around our charge at each point **while** the angle `theta` is less then $2\\pi$."
   ]
  },
  {
   "cell_type": "code",
   "execution_count": null,
   "id": "768d13b9",
   "metadata": {},
   "outputs": [],
   "source": [
    "#Define a scene for the Vpython simulation\n",
    "scene = canvas()\n",
    "scene.width = 500\n",
    "scene.height = 600\n",
    "scene.background = color.white\n",
    "scene.range = 0.1\n",
    "scene.center = vector(0,0,0)\n",
    "\n",
    "#Define Coulombs constant and charges\n",
    "k = 9e9\n",
    "q = 1e-9\n",
    "\n",
    "#Create objects in the Vpython simulation scene.\n",
    "q_p = sphere(pos=vector(0,0,0), radius=2E-3, color=color.red, charge = q )\n",
    "\n",
    "#Define the radius of the observation location and angle theta\n",
    "R = 0.03\n",
    "theta = 0\n",
    "\n",
    "#Define the number of steps we wish to take in our dtheta varible\n",
    "N = 24\n",
    "dtheta = 2*pi/N\n",
    "Escale = 3e-6\n",
    "\n",
    "#Define the while loop for the vector at the observation locations\n",
    "while theta<2*pi:\n",
    "    rate(1)\n",
    "    r_o = R*vector(cos(theta),sin(theta),0)\n",
    "    \n",
    "    r_p = r_o-q_p.pos\n",
    "    E_p = k*q_p.charge*r_p/mag(r_p)**3\n",
    "    \n",
    "    E_vector = arrow(pos=r_o, axis=Escale*E_p, color = color.orange)\n",
    "    theta = theta + dtheta\n"
   ]
  },
  {
   "cell_type": "markdown",
   "id": "09b5f282",
   "metadata": {},
   "source": [
    "Recall what we said about the electric field vector being measured with respect to a positive test charge. In the cell below, edit the `charge` and `color` of the particle to see how the `E` field changes with a negative charge."
   ]
  },
  {
   "cell_type": "code",
   "execution_count": null,
   "id": "b7ff85f4",
   "metadata": {},
   "outputs": [],
   "source": [
    "#Define a scene for the Vpython simulation\n",
    "scene = canvas()\n",
    "scene.width = 500\n",
    "scene.height = 600\n",
    "scene.background = color.white\n",
    "scene.range = 0.1\n",
    "scene.center = vector(0,0,0)\n",
    "\n",
    "#Define Coulombs constant and charges\n",
    "k = 9e9\n",
    "q = 1e-9\n",
    "\n",
    "#Create objects in the Vpython simulation scene.\n",
    "q_n = sphere(pos=vector(0,0,0), radius=2E-3, color=color.??, charge =?? )\n",
    "\n",
    "#Define the radius of the observation location and angle theta\n",
    "R = 0.03\n",
    "theta = 0\n",
    "\n",
    "#Define the number of steps we wish to take in our dtheta varible\n",
    "N = 24\n",
    "dtheta = 2*pi/N\n",
    "Escale = 3e-6\n",
    "\n",
    "#Define the while loop for the vector at the observation locations\n",
    "while theta<2*pi:\n",
    "    rate(1)\n",
    "    r_o = R*vector(cos(theta),sin(theta),0)\n",
    "    \n",
    "    r_n = r_o-q_n.pos\n",
    "    E_n = k*q_n.charge*r_n/mag(r_p)**3\n",
    "    \n",
    "    E_vector = arrow(pos=r_o, axis=Escale*E_n, color = color.orange)\n",
    "    theta = theta + dtheta\n"
   ]
  },
  {
   "cell_type": "markdown",
   "id": "085d16ed",
   "metadata": {},
   "source": [
    "If we place the test charge at all points in space, we end up with a field of vectors that represents the electric field of the charged particle. Run the code below for a interactive visualization of the electric field surrounding a **positive charge**. Take note of the direction and magnitude of the vectors at all points around the charge."
   ]
  },
  {
   "cell_type": "code",
   "execution_count": null,
   "id": "899de7f6",
   "metadata": {},
   "outputs": [],
   "source": [
    "scene = canvas()\n",
    "scene.width = 700\n",
    "scene.height = 800\n",
    "scene.background = color.white\n",
    "scene.range = 18\n",
    "scene.center = vector(0,0,0)\n",
    "\n",
    "obsloc = []\n",
    "arrows = []\n",
    "\n",
    "K = 15\n",
    "q = sphere(pos=vector(0,0,0), color=color.red, radius=0.6, charge=1)\n",
    "\n",
    "vecspace = arange(-5, 6, 2)\n",
    "for x in vecspace:\n",
    "    for y in vecspace:\n",
    "        for z in vecspace:\n",
    "            obsloc.append(vector(x,y,z))\n",
    "            a = arrow(pos=vector(x,y,z), axis=vector(0, 0.1, 0), color=color.orange, shaftwidth=0.2)\n",
    "            r = a.pos-q.pos\n",
    "            if mag(r) == 0:\n",
    "                a.axis = vector(0,0,0)\n",
    "            else:\n",
    "                E = K*q.charge*r/(mag(r)**2)\n",
    "                a.axis = E\n",
    "            arrows.append(a)"
   ]
  },
  {
   "cell_type": "markdown",
   "id": "e28fd9d6",
   "metadata": {},
   "source": [
    "Additionally, we can preform the same script to a **negative charge**. Run the code cell below to visualize the electric field surrounding a negative charge. Take note of the direction and magnitude of the vectors at all points around the charge."
   ]
  },
  {
   "cell_type": "code",
   "execution_count": null,
   "id": "9af4d773",
   "metadata": {},
   "outputs": [],
   "source": [
    "scene = canvas()\n",
    "scene.width = 700\n",
    "scene.height = 800\n",
    "scene.background = color.white\n",
    "scene.range = 18\n",
    "scene.center = vector(0,0,0)\n",
    "\n",
    "obsloc = []\n",
    "arrows = []\n",
    "\n",
    "K = 15\n",
    "q = sphere(pos=vector(0,0,0), color=color.blue, radius=0.6, charge=-1)\n",
    "\n",
    "vecspace = arange(-5, 6, 2)\n",
    "for x in vecspace:\n",
    "    for y in vecspace:\n",
    "        for z in vecspace:\n",
    "            obsloc.append(vector(x,y,z))\n",
    "            a = arrow(pos=vector(x,y,z), axis=vector(0, 0.1, 0), color=color.orange, shaftwidth=0.2)\n",
    "            r = a.pos-q.pos\n",
    "            if mag(r) == 0:\n",
    "                a.axis = vector(0,0,0)\n",
    "            else:\n",
    "                E = K*q.charge*r/(mag(r)**2)\n",
    "                a.axis = E\n",
    "            arrows.append(a)"
   ]
  },
  {
   "cell_type": "markdown",
   "id": "1792888c",
   "metadata": {},
   "source": [
    "# Multiple point charges\n",
    "\n",
    "We can extend your computational model to study the electric field created by multiple point charges. This method takes advantage of the superposition princple, that the electric field created by multiple point charges is just the sum of all the electric fields created by the individual point charges:\n",
    "\n",
    "\\begin{equation}\n",
    "\\vec{E} = \\vec{E}_{q_1} + \\vec{E}_{q_2} + \\ldots\n",
    "\\end{equation}"
   ]
  },
  {
   "cell_type": "markdown",
   "id": "96502126",
   "metadata": {},
   "source": [
    "In many situations, there are multiple charges. The total electric field created by multiple charges is the vector sum of the individual fields created by each charge. The following example shows how to add electric field vectors."
   ]
  },
  {
   "cell_type": "markdown",
   "id": "279bb2ec",
   "metadata": {},
   "source": [
    "# Example 2\n",
    "\n",
    "Find the magnitude and direction of the total electric field due to the two point charges,  $q_1 = +5 nC$ at position $\\vec{r_1} = <0,-2,0>$   and  $q_2 = +10 nC$ at position $\\vec{r_2} = <4,0,0>$ , at the origin of the coordinate system.\n",
    "\n"
   ]
  },
  {
   "cell_type": "code",
   "execution_count": 21,
   "id": "2bf59377",
   "metadata": {
    "scrolled": true
   },
   "outputs": [
    {
     "data": {
      "text/html": [
       "<div id=\"glowscript\" class=\"glowscript\"></div>"
      ],
      "text/plain": [
       "<IPython.core.display.HTML object>"
      ]
     },
     "metadata": {},
     "output_type": "display_data"
    },
    {
     "data": {
      "application/javascript": [
       "if (typeof Jupyter !== \"undefined\") { window.__context = { glowscript_container: $(\"#glowscript\").removeAttr(\"id\")};}else{ element.textContent = ' ';}"
      ],
      "text/plain": [
       "<IPython.core.display.Javascript object>"
      ]
     },
     "metadata": {},
     "output_type": "display_data"
    },
    {
     "name": "stdout",
     "output_type": "stream",
     "text": [
      "12.577882373436317 N/C\n",
      "63.43494882292202 degrees\n"
     ]
    }
   ],
   "source": [
    "scene = canvas()\n",
    "scene.width = 500\n",
    "scene.height = 600\n",
    "scene.background = color.white\n",
    "scene.range = 5\n",
    "scene.center = vector(2,0,0)\n",
    "\n",
    "#Here we set up out unit base vectors to give us a point of reference in our simulated space\n",
    "xaxis=arrow(color=vector(1,0,0), pos=vector(0,0,0), axis=vector(1,0,0), radius=1E-2, opacity=0.2)\n",
    "xlbl=label(pos=vector(1.2,0,0), text=\"X\", color=color.red, opacity=0.2, height=20, box=0)\n",
    "yaxis=arrow(color=color.green, pos=vector(0,0,0), axis=vector(0,1,0), radius=1E-2, opacity=0.2)\n",
    "ylbl=label(pos=vector(0,1.2,0), text=\"Y\", color=color.green, opacity=0.2, height=20, box=0)\n",
    "zaxis=arrow(color=color.blue, pos=vector(0,0,0), axis=vector(0,0,1), radius=1E-2, opacity=0.2)\n",
    "xlbl=label(pos=vector(0,0,1.2), text=\"Z\", color=color.blue, opacity=0.2, height=20, box=0)\n",
    "\n",
    "#Create objects in the Vpython simulation scene. Notice the position vector of the Positron\n",
    "q1 = sphere(pos=vector(0,-2,0), radius=1E-1, color=color.blue, charge = ??)\n",
    "q2 = sphere(pos=vector(4,0,0), radius=1E-1, color=color.red, charge = ??)\n",
    "qtest = sphere(pos=vector(0,0,0), radius=1E-9, color=color.orange, charge = 1E-12)\n",
    "Escale = 1E-1\n",
    "\n",
    "r_o = vector(0,0,0)\n",
    "    \n",
    "r1 = r_o-q1.pos\n",
    "r2 = r_o-q2.pos\n",
    "E1 = k*q1.charge*r1/mag(r1)**3\n",
    "E2 = k*q2.charge*r2/mag(r2)**3\n",
    "Etot = ?? + ??\n",
    "Emag = np.sqrt(mag(??)**2+mag(??)**2)\n",
    "theta = np.degrees(np.arctan(mag(??)/mag(??)))\n",
    "E1_vector = arrow(pos=r_o, axis=Escale*??, color = color.blue)\n",
    "E2_vector = arrow(pos=r_o, axis=Escale*??, color = color.red)\n",
    "Etot_vector = arrow(pos=r_o, axis=Escale*??, color = color.orange)\n",
    "\n",
    "print(??, 'N/C')\n",
    "print(??,'degrees')"
   ]
  },
  {
   "cell_type": "markdown",
   "id": "3d194b32",
   "metadata": {},
   "source": [
    "The field is stronger between the charges. In that region, the fields from each charge are in the same direction, and so their strengths add. The field of two unlike charges is weak at large distances, because the fields of the individual charges are in opposite directions and so their strengths subtract. At very large distances, the field of two unlike charges looks like that of a smaller single charge."
   ]
  },
  {
   "cell_type": "markdown",
   "id": "d18c0cf4",
   "metadata": {},
   "source": [
    "# Checkpoint\n",
    "\n",
    "Let's take the script we wrote ealier in the notebook to visualize the electric field surrounding a dipole. Edit the code below to add `while` loops that changed the observation locations to rotate around the **y** & **z** directions."
   ]
  },
  {
   "cell_type": "code",
   "execution_count": null,
   "id": "5f8e21ca",
   "metadata": {},
   "outputs": [],
   "source": [
    "scene = canvas()\n",
    "scene.width = 500\n",
    "scene.height = 600\n",
    "scene.background = color.white\n",
    "scene.range = 0.1\n",
    "scene.center = vector(0,0,0)\n",
    "\n",
    "k = 9e9\n",
    "q = 1e-9\n",
    "s = 0.01\n",
    "\n",
    "q_n = sphere(pos=vector(-s/2,0,0), radius=s/5, color=color.blue, charge = -q)\n",
    "q_p = sphere(pos=vector(s/2,0,0), radius=s/5, color=color.red, charge = q)\n",
    "\n",
    "\n",
    "R = 0.038\n",
    "theta = 0\n",
    "\n",
    "N = 24\n",
    "dtheta = 2*pi/N\n",
    "Escale = 3e-6\n",
    "\n",
    "while theta<2*pi:\n",
    "    rate(1)\n",
    "    r_o = R*vector(cos(theta),sin(theta),0)\n",
    "    \n",
    "    r_p = r_o-q_p.pos\n",
    "    r_n = r_o-q_n.pos\n",
    "    E_p = k*q_p.charge*r_p/mag(r_p)**3\n",
    "    \n",
    "    E_n = k*q_n.charge*r_n/mag(r_n)**3\n",
    "    E = E_p + E_n\n",
    "    E_vector = arrow(pos=r_o, axis=Escale*E, color = color.orange)\n",
    "    theta = theta + dtheta\n",
    "\n",
    "theta=0\n",
    "\n",
    "while theta<2*pi:\n",
    "    rate(1)\n",
    "    r_o = R*vector(??,0,??)\n",
    "    \n",
    "    r_p = r_o-q_p.pos\n",
    "    r_n = r_o-q_n.pos\n",
    "    E_p = k*q_p.charge*r_p/mag(r_p)**3\n",
    "    \n",
    "    E_n = k*q_n.charge*r_n/mag(r_n)**3\n",
    "    E = E_p + E_n\n",
    "    E_vector = arrow(pos=r_o, axis=Escale*E,color = color.orange)\n",
    "    theta = theta+ dtheta\n",
    "\n",
    "theta=0\n",
    "\n",
    "while theta<2*pi:\n",
    "    rate(1)\n",
    "    r_o = R*vector(0,??,??)\n",
    "    \n",
    "    r_p = r_o-q_p.pos\n",
    "    r_n = r_o-q_n.pos\n",
    "    E_p = k*q_p.charge*r_p/mag(r_p)**3\n",
    "    \n",
    "    E_n = k*q_n.charge*r_n/mag(r_n)**3\n",
    "    E = E_p + E_n\n",
    "    E_vector = arrow(pos=r_o, axis=Escale*E,color = color.orange)\n",
    "    theta = theta+ dtheta\n"
   ]
  },
  {
   "cell_type": "markdown",
   "id": "8f6da7e4",
   "metadata": {},
   "source": [
    "We use electric field lines to visualize and analyze electric fields (the lines are a pictorial tool, not a physical entity in themselves). The properties of electric field lines for any charge distribution can be summarized as follows:\n",
    "\n",
    "1. Field lines must begin on positive charges and terminate on negative charges, or at infinity in the hypothetical case of isolated charges.\n",
    "2. The number of field lines leaving a positive charge or entering a negative charge is proportional to the magnitude of the charge.\n",
    "3. The strength of the field is proportional to the closeness of the field lines—more precisely, it is proportional to the number of lines per unit area perpendicular to the lines.\n",
    "4. The direction of the electric field is tangent to the field line at any point in space.\n",
    "5. Field lines can never cross.\n",
    "\n",
    "The last property means that the field is unique at any point. The field line represents the direction of the field; so if they crossed, the field would have two directions at that location (an impossibility if the field is unique)."
   ]
  },
  {
   "cell_type": "code",
   "execution_count": null,
   "id": "bc2b581b",
   "metadata": {},
   "outputs": [],
   "source": []
  }
 ],
 "metadata": {
  "kernelspec": {
   "display_name": "Python 3",
   "language": "python",
   "name": "python3"
  },
  "language_info": {
   "codemirror_mode": {
    "name": "ipython",
    "version": 3
   },
   "file_extension": ".py",
   "mimetype": "text/x-python",
   "name": "python",
   "nbconvert_exporter": "python",
   "pygments_lexer": "ipython3",
   "version": "3.7.6"
  }
 },
 "nbformat": 4,
 "nbformat_minor": 5
}
