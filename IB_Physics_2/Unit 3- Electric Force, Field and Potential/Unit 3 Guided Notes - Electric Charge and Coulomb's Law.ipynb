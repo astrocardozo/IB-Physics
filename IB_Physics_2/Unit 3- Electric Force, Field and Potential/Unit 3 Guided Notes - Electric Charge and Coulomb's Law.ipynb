{
 "cells": [
  {
   "cell_type": "markdown",
   "id": "fa6bc405",
   "metadata": {},
   "source": [
    "# Objectives\n",
    "\n",
    "By the end of this section, you will be able to:\n",
    "\n",
    "* State Coulomb's law in terms of how the electrostatic force changes with the distance between two objects.\n",
    "* Calculate the electrostatic force between two point charges, such as electrons or protons.\n",
    "* Compare the electrostatic force to the gravitational attraction for a proton and an electron; for a human and the Earth."
   ]
  },
  {
   "cell_type": "code",
   "execution_count": null,
   "id": "9f149d24",
   "metadata": {},
   "outputs": [],
   "source": [
    "import numpy as np  \n",
    "import matplotlib.pyplot as plt\n",
    "from matplotlib import cm \n",
    "import pandas as pd\n",
    "from vpython import *\n",
    "\n",
    "%matplotlib notebook"
   ]
  },
  {
   "cell_type": "markdown",
   "id": "63fc02d4",
   "metadata": {},
   "source": [
    "# Electric Charge\n",
    "\n",
    "Some of the most basic characteristics of static electricity include:\n",
    "\n",
    "* The effects of static electricity are explained by a fundamental physical quantity called electric charge.\n",
    "* There are only two types of charge, one called positive and the other called negative.\n",
    "* Charges exert forces on other charges at a distance.\n",
    "* Like charges repel, whereas unlike charges attract.\n",
    "* The force between charges decreases with distance.\n",
    "\n",
    "We can model these fundamental charges by using our Vpython interface. Below we create a scene in which VPython objects to exist. Next, we can define our two charges $q_1$ an $q_2$ using the `sphere` function. Notice that within the function we have additional parameters like `vector`, `radius` and `color` that we can use to create a object of our choosing. Run the cell below to see our two charges within the Vpython scene."
   ]
  },
  {
   "cell_type": "code",
   "execution_count": null,
   "id": "1113424b",
   "metadata": {},
   "outputs": [],
   "source": [
    "#Define a scene for the Vpython simulation\n",
    "scene = canvas()\n",
    "scene.width = 500\n",
    "scene.height = 600\n",
    "scene.background = color.white\n",
    "scene.range = 3\n",
    "scene.center = vector(2,0,0)\n",
    "\n",
    "\n",
    "#Create objects in the Vpython simulation scene \n",
    "electron = sphere(pos=vector(0,0,0), radius=0.5, color=color.blue, charge = -1)\n",
    "positron = sphere(pos=vector(4,0,0), radius=0.5, color=color.red, charge = 1)"
   ]
  },
  {
   "cell_type": "markdown",
   "id": "9abcc99d",
   "metadata": {},
   "source": [
    "# Electrostatic Force\n",
    "\n",
    "Through the work of scientists in the late 18th century, the main features of the **electrostatic force**—the existence of two types of **charge**, the observation that like charges repel, unlike charges attract, and the decrease of force with distance—were eventually refined, and expressed as a mathematical formula. The mathematical formula for the electrostatic force is called **Coulomb's law** after the French physicist Charles Coulomb (1736–1806), who performed experiments and first proposed a formula to calculate it.\n",
    "\n",
    "Experimented with charged spheres. He found that: \n",
    "* Electrostatic force varied inversely with square of the distance between the spheres.\n",
    "* Electrostatic force varied directly with magnitude of the charge. \n",
    "\n",
    "He combined these discoveries to make his law.  \n",
    "\n",
    "\\begin{equation}\n",
    "  F = k \\frac{|q_1q_2|}{r^2}\n",
    "\\end{equation}\n",
    "\n",
    "Where $k = 8.99*10^9 Nm^2/C^2$\n",
    "\n",
    "In the cell below, we define **Coulomb's law** using the `def` function."
   ]
  },
  {
   "cell_type": "code",
   "execution_count": null,
   "id": "b1a9a5f4",
   "metadata": {},
   "outputs": [],
   "source": [
    "def F_e(k,q1,q2,r):\n",
    "    F_e = k*np.abs(q1*q2)/r**2\n",
    "    return F_e"
   ]
  },
  {
   "cell_type": "markdown",
   "id": "20c06ec4",
   "metadata": {},
   "source": [
    "Now that we have defined our function, let's take a look at how the electrostatic force behaves between two oppositely charged particles. Lets define the charges $q_1=7.4\\mu C$ and $q_2=-3.6\\mu C$ and examine how the force changes as we move them from $0.1m$ to $1m$ apart. To do this, lets call upon our old friends `numpy` and `matplotlib`."
   ]
  },
  {
   "cell_type": "code",
   "execution_count": null,
   "id": "296caf3c",
   "metadata": {},
   "outputs": [],
   "source": [
    "#Define Coulombs constant and charges\n",
    "k = 8.99E9 \n",
    "q1 = 7.4E-6\n",
    "q2 = -3.6E-6\n",
    "\n",
    "#Create an array of points from 0.1m to 1m with 50 interations\n",
    "r = np.linspace(0.1,1,50) \n",
    "\n",
    "#Define varible for y-axis using our previously defined function\n",
    "y = F_e(k,q1,q2,r)   \n",
    "\n",
    "#Plot radius and defined varible andd set axis labels\n",
    "plt.scatter(r,y)\n",
    "plt.xlabel('Radius (m)')\n",
    "plt.ylabel('Electrostatic Force (N)')\n",
    "plt.title('Electrostatic Force vs Radius');"
   ]
  },
  {
   "cell_type": "markdown",
   "id": "b1383a1d",
   "metadata": {},
   "source": [
    "Notice how the electrostatic force attracting the two particles together is inversely proportional to the radius squared. This should sound strikingly similar to a force we have discussed in the past..\n",
    "\n",
    "Note that Newton's third law (every force exerted creates an equal and opposite force) applies as usual—the force on $q_1$ is equal in magnitude and opposite in direction to the force it exerts on $q_2$. We can visualize this in our Vpython enviroment by defining a new function `force_e`. We will place the `electron` at the origin and the `positron` 4 units from the `electron` in the x-direction $<4,0,0>$. Notice the `charge` of the `electron` is $-1\\mu C$ and the `positron` is $1\\mu C$."
   ]
  },
  {
   "cell_type": "code",
   "execution_count": null,
   "id": "75005544",
   "metadata": {},
   "outputs": [],
   "source": [
    "#Define a scene for the Vpython simulation\n",
    "scene = canvas()\n",
    "scene.width = 500\n",
    "scene.height = 600\n",
    "scene.background = color.white\n",
    "scene.center = vector(.5E-8,0,0)\n",
    "\n",
    "qe = 1.6E-19\n",
    "\n",
    "#Create objects in the Vpython simulation scene. Notice the position vector of the Positron\n",
    "electron = sphere(pos=vector(0,0,0), radius=1E-9, color=color.blue, charge = -qe)\n",
    "positron = sphere(pos=vector(1E-8,0,0), radius=1E-9, color=color.red, charge = qe)\n",
    "\n",
    "\n",
    "#Define new electric force function using the charged object created.\n",
    "def force_e(object1,object2):\n",
    "    k = 9E9\n",
    "    r = object1.pos - object2.pos\n",
    "    force_mag = k*object1.charge*object2.charge/mag(r)**2\n",
    "    force_vec = force_mag*hat(r)\n",
    "    scale = 2E3\n",
    "    arrow(pos=object1.pos, axis=force_vec*scale, color=object2.color)\n",
    "    return force_vec\n",
    "\n",
    "#Call the function for each of the forces acting on both objects. Electron on Positron and Positron on Electron\n",
    "force_electron_positron = force_e(electron,positron)\n",
    "force_positron_electron = force_e(positron,electron)\n"
   ]
  },
  {
   "cell_type": "markdown",
   "id": "af7cc0a1",
   "metadata": {},
   "source": [
    "As we learned in dynamics, particles with an unbalanced force acting on them will accelerate in the direction of the force. As we saw in the last simulation, both particles have an unbalanced force resulting from the **electrostatic force**. In the code cell below, we have created a `while` loop that uses the `rate` function to create an animation of the two particles until the conditional statement in the begining of the `while` loop is met. Run the code cell below to play the animation."
   ]
  },
  {
   "cell_type": "code",
   "execution_count": null,
   "id": "7f2c48bf",
   "metadata": {},
   "outputs": [],
   "source": [
    "#Define a scene for the Vpython simulation\n",
    "scene = canvas()\n",
    "scene.width = 500\n",
    "scene.height = 600\n",
    "scene.background = color.white\n",
    "scene.center = vector(.5E-8,0,0)\n",
    "\n",
    "\n",
    "dt=0.01\n",
    "qe = 1.6E-19\n",
    "\n",
    "\n",
    "\n",
    "#Create objects in the Vpython simulation scene. Notice the position vector of the Positron\n",
    "electron = sphere(pos=vector(0,0,0), radius=1E-9, color=color.blue, mass = 1, charge = -qe,  velocity=vector(0,0,0)\n",
    "                  ,force=vector(0,0,0))\n",
    "positron = sphere(pos=vector(1E-8,0,0), radius=1E-9, color=color.red, mass = 1, charge = qe, velocity=vector(0,0,0)\n",
    "                  ,force=vector(0,0,0))\n",
    "attach_arrow(electron, \"force\", color=color.red)\n",
    "attach_arrow(positron, \"force\", color=color.blue)\n",
    "\n",
    "while 5E-9>electron.pos.x:\n",
    "    rate(100)\n",
    "    electron.force = force_e(electron,positron)\n",
    "    electron.velocity += electron.force*dt/electron.mass\n",
    "    electron.pos += electron.velocity * dt\n",
    "    positron.force = force_e(positron,electron)\n",
    "    positron.velocity += positron.force*dt/positron.mass\n",
    "    positron.pos += positron.velocity * dt"
   ]
  },
  {
   "cell_type": "markdown",
   "id": "da62acfc",
   "metadata": {},
   "source": [
    "# Checkpoint\n",
    "Recall what we said about opposite charges attracting and like charges repelling. In the cell below, edit the `charge` and `color` of the particles of your choosing to see how the `force_e` changes with like charges."
   ]
  },
  {
   "cell_type": "code",
   "execution_count": null,
   "id": "1c34cff1",
   "metadata": {},
   "outputs": [],
   "source": [
    "#Define a scene for the Vpython simulation\n",
    "scene = canvas()\n",
    "scene.width = 500\n",
    "scene.height = 600\n",
    "scene.background = color.white\n",
    "scene.center = vector(.5E-8,0,0)\n",
    "\n",
    "qe = 1.6E-19\n",
    "\n",
    "#Create objects in the Vpython simulation scene. Notice the position vector of the Positron\n",
    "q1 = sphere(pos=vector(0,0,0), radius=1E-9, color=color.??, charge = ??)\n",
    "q2 = sphere(pos=vector(1E-8,0,0), radius=1E-9, color=color.??, charge = ??)\n",
    "\n",
    "#Notice how we ont need to rewrite our function\n",
    "\n",
    "#Call the function for each of the forces acting on both objects. Electron on Positron and Positron on Electron\n",
    "force_q1_q2 = force_e(??,??)\n",
    "force_q2_q1 = force_e(??,??)"
   ]
  },
  {
   "cell_type": "markdown",
   "id": "c553da1a",
   "metadata": {},
   "source": [
    "In the cell below, we want to repeat the same aimation we used in the opposite charged particles but with like charges. In the code cell below, edit the `charge` and `color` to model the interactions of like charges."
   ]
  },
  {
   "cell_type": "code",
   "execution_count": null,
   "id": "42393f33",
   "metadata": {},
   "outputs": [],
   "source": [
    "#Define a scene for the Vpython simulation\n",
    "scene = canvas()\n",
    "scene.width = 500\n",
    "scene.height = 600\n",
    "scene.background = color.white\n",
    "scene.center = vector(.5E-8,0,0)\n",
    "\n",
    "\n",
    "dt=0.01\n",
    "qe = 1.6E-19\n",
    "\n",
    "\n",
    "\n",
    "#Create objects in the Vpython simulation scene. Notice the position vector of the Positron\n",
    "q1 = sphere(pos=vector(0,0,0), radius=1E-9, color=color.??, mass = 1, charge = ??,  velocity=vector(0,0,0)\n",
    "                  ,force=vector(0,0,0))\n",
    "q2 = sphere(pos=vector(1E-8,0,0), radius=1E-9, color=color.??, mass = 1, charge = ??, velocity=vector(0,0,0)\n",
    "                  ,force=vector(0,0,0))\n",
    "attach_arrow(q1, \"force\", color=color.??)\n",
    "attach_arrow(q1, \"force\", color=color.??)\n",
    "\n",
    "while 5E-9>q1.pos.x:\n",
    "    rate(100)\n",
    "    q1.force = force_e(q1,q2)\n",
    "    q1.velocity += q1.force*dt/q1.mass\n",
    "    q1.pos += q1.velocity * dt\n",
    "    q2.force = force_e(q2,q1)\n",
    "    q2.velocity += q2.force*dt/q2.mass\n",
    "    q2.pos += q2.velocity * dt"
   ]
  },
  {
   "cell_type": "markdown",
   "id": "ef4f4715",
   "metadata": {},
   "source": [
    "# Example 1\n",
    "Lets try using the Vpython enviroment on the example problem below. In the code cell below the image, edit the `charge` and position `vector` of $q_1$ and $q_2$ to match the problem. Additonally, copy and paste one of the previous charged particles to add a third charged particle with the cooresponding position `vector` and `charge`."
   ]
  },
  {
   "cell_type": "code",
   "execution_count": null,
   "id": "54a95b18",
   "metadata": {},
   "outputs": [],
   "source": [
    "from IPython.display import Image\n",
    "Image('Three Point Charges.png')"
   ]
  },
  {
   "cell_type": "code",
   "execution_count": null,
   "id": "350a9366",
   "metadata": {},
   "outputs": [],
   "source": [
    "#Define a scene for the Vpython simulation\n",
    "scene = canvas()\n",
    "scene.width = 500\n",
    "scene.height = 600\n",
    "scene.background = color.white\n",
    "scene.center = vector(.5E-8,0,0)\n",
    "\n",
    "qe = 1.6E-19\n",
    "\n",
    "#Create objects in the Vpython simulation scene. Notice the position vector of the Positron\n",
    "q1 = sphere(pos=vector(0,0,0), radius=1E-9, color=color.blue, charge = ??)\n",
    "q2 = sphere(pos=vector(1E-8,0,0), radius=1E-9, color=color.red, charge = ??)\n",
    "q3 = ?\n",
    "\n",
    "#Call the function for each of the forces acting on all three objects.\n",
    "force_q1_q2 = force_e(q1,q2)\n",
    "force_q2_q1 = force_e(q2,q1)\n",
    "force_q1_q3 = force_e(q1,q3)\n",
    "force_q3_q1 = force_e(q3,q1)\n",
    "force_q2_q3 = force_e(q2,q3)\n",
    "force_q3_q2 = force_e(q3,q2)\n"
   ]
  },
  {
   "cell_type": "code",
   "execution_count": null,
   "id": "4a6652fb",
   "metadata": {},
   "outputs": [],
   "source": [
    "#Here we set up out unit base vectors to give us a point of reference in our simulated space\n",
    "xaxis=arrow(color=vector(1,0,0), pos=vector(0,0,0), axis=vector(1,0,0), radius=0.1, opacity=0.5)\n",
    "xlbl=label(pos=vector(1.2,0,0), text=\"X\", color=color.red, opacity=0.5, height=20, box=0)\n",
    "yaxis=arrow(color=color.green, pos=vector(0,0,0), axis=vector(0,1,0), radius=0.1, opacity=0.5)\n",
    "ylbl=label(pos=vector(0,1.2,0), text=\"Y\", color=color.green, opacity=0.5, height=20, box=0)\n",
    "zaxis=arrow(color=color.blue, pos=vector(0,0,0), axis=vector(0,0,1), radius=0.1, opacity=0.5)\n",
    "xlbl=label(pos=vector(0,0,1.2), text=\"Z\", color=color.blue, opacity=0.5, height=20, box=0)"
   ]
  },
  {
   "cell_type": "code",
   "execution_count": null,
   "id": "f7b77c73",
   "metadata": {},
   "outputs": [],
   "source": [
    "K = 8.99E-9\n",
    "q1 = 7.4E-6\n",
    "q2 = -3.6E-6\n",
    "r = np.linspace(10,100,20)\n",
    "y = F_e(K,q1,q2,r)\n",
    "plt.scatter(1/r**2,y)\n",
    "plt.xlabel('1/Radius^2 (m^-2)')\n",
    "plt.ylabel('Electrostatic Force (N)')\n",
    "plt.title('Linearized Electrostatic Force vs Radius')"
   ]
  }
 ],
 "metadata": {
  "kernelspec": {
   "display_name": "Python 3",
   "language": "python",
   "name": "python3"
  },
  "language_info": {
   "codemirror_mode": {
    "name": "ipython",
    "version": 3
   },
   "file_extension": ".py",
   "mimetype": "text/x-python",
   "name": "python",
   "nbconvert_exporter": "python",
   "pygments_lexer": "ipython3",
   "version": "3.7.6"
  },
  "vscode": {
   "interpreter": {
    "hash": "251d706469fcb9e49b5983007650dd7661e3383df7865dfc6d03a1cc473def10"
   }
  }
 },
 "nbformat": 4,
 "nbformat_minor": 5
}
