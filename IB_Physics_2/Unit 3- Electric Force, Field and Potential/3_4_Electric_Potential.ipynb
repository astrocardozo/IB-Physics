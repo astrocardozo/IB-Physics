{
 "cells": [
  {
   "cell_type": "markdown",
   "metadata": {
    "id": "rEglf7M8dB-T"
   },
   "source": [
    "# Outcomes\n",
    "By the end of this notebook, you will be able to...\n",
    "* Adapt existing code to calculate a new quantity.\n",
    "* Generate a contour plot.\n",
    "\n",
    "# Visualizing electric potential\n",
    "\n",
    "Using your work in CIT 3.1-3.3 as an example, in the code cell below...\n",
    "\n",
    "1. Create a function `PointChargePotential(charge,xField,yField)` that can calculate the **electric potential** from a point charge at location $(x_{\\textrm{field}},y_{\\textrm{field}})$. Remember that electric potential is calculated using\n",
    "\\begin{equation}\n",
    "V = k \\frac{q}{r}.\n",
    "\\end{equation}\n",
    "\n",
    "2. Create a function `Potential(charges,xField,yField)` that can calculate the electric potential from a **list of point charges**.\n",
    "\n",
    "3. Create two lists of grid values `xList` and `yList` spanning from $-10$ to $10$.\n",
    "\n",
    "4. Create a list `charges` with two point charges that form a dipole.\n",
    "\n",
    "Then run the code cell below to create a **countour plot** of the electric potential of this dipole. How is this a helpful complement to the electric field quiver plots you've been creating?\n",
    "\n",
    "Change `charges` to represent a quadrupole, then a charged line. Describe the contour plot for each."
   ]
  },
  {
   "cell_type": "code",
   "execution_count": null,
   "metadata": {
    "id": "-Cj0FIyGbQYj"
   },
   "outputs": [],
   "source": [
    "import numpy as np\n",
    "import matplotlib.pyplot as plt\n",
    "\n",
    "\n",
    "def PointChargePotential(charge,xField,yField):\n",
    "  ??\n",
    "  return V\n",
    "\n",
    "def Potential(charges,xField,yField):\n",
    "  ??\n",
    "  return V\n",
    "\n",
    "xList = ??\n",
    "yList = ??\n",
    "\n",
    "X,Y = np.meshgrid(xList,yList)\n",
    "\n",
    "charges = ??\n",
    "\n",
    "V = Potential(charges,X,Y)\n",
    "\n",
    "plt.contour(X,Y,V)"
   ]
  },
  {
   "cell_type": "markdown",
   "metadata": {
    "id": "ffJvkU04eYAg"
   },
   "source": [
    "# Choose a shape\n",
    "\n",
    "Now choose a two-dimensional shape that interests you, and create it using the `charges` list. Generate a quiver plot and a contour plot to visualize the electric field and electric potential created by this shape. Describe the pattern."
   ]
  }
 ],
 "metadata": {
  "colab": {
   "collapsed_sections": [],
   "name": "CIT 3.4 Electric Potential.ipynb",
   "provenance": []
  },
  "kernelspec": {
   "display_name": "Python 3",
   "language": "python",
   "name": "python3"
  },
  "language_info": {
   "codemirror_mode": {
    "name": "ipython",
    "version": 3
   },
   "file_extension": ".py",
   "mimetype": "text/x-python",
   "name": "python",
   "nbconvert_exporter": "python",
   "pygments_lexer": "ipython3",
   "version": "3.7.6"
  }
 },
 "nbformat": 4,
 "nbformat_minor": 1
}
