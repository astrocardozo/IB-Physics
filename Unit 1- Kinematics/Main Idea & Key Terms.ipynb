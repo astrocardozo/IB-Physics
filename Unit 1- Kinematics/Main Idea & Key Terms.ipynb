{
 "cells": [
  {
   "cell_type": "markdown",
   "metadata": {},
   "source": [
    "# Main Idea\n",
    "\n",
    " Unit 1 sets the foundation for kinematics firmly within the framework of objects and systems. It introduces the definitions of basic variables that describe motion. Vectors are introduced to describe motion in a single dimension.  This will build a foundation for understanding vector components necessary in more general motion. Linear motion is described in in general, but most topics and problems address motion with constant acceleration. Graphs of position, velocity, and acceleration as functions of time are constructed and analyzed. Unit 1 will expand this discussion beyond the single dimension. \n",
    "\n",
    " # Learning Goals\n",
    "\n",
    "* Express the motion of an object using narrative and mathematical and graphical representations. \n",
    "\n",
    " \n",
    "\n",
    "* Design an experimental investigation of the motion of an object. \n",
    "\n",
    " \n",
    "\n",
    "* Analyze experimental data describing the motion of an object and be able to express the results of the analysis using narrative, mathematical and graphical representations.  \n",
    "\n",
    " \n",
    "\n",
    "* Use representations of the center of mass of an isolated two-object system to analyze the motion of the system qualitatively and semi-quantitatively.   \n",
    "\n",
    " \n",
    "\n",
    "* Make predictions about the motion of a system based on the fact that acceleration is equal to the change in velocity per unit time, and velocity is equal to the change in position per unit time. \n",
    "\n",
    " \n",
    "\n",
    "* Create mathematical models and analyze graphical relationships for acceleration, velocity, and position of the center of mass of a system and use them to calculate properties of the motion of the center of mass of a system.  "
   ]
  },
  {
   "cell_type": "markdown",
   "metadata": {},
   "source": []
  }
 ],
 "metadata": {
  "language_info": {
   "name": "python"
  },
  "orig_nbformat": 4
 },
 "nbformat": 4,
 "nbformat_minor": 2
}
