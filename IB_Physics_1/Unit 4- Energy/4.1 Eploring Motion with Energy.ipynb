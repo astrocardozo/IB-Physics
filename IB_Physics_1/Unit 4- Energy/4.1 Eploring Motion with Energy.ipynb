{
  "nbformat": 4,
  "nbformat_minor": 0,
  "metadata": {
    "colab": {
      "name": "CIT 2.7 Exploring Motion with Energy.ipynb",
      "provenance": [],
      "collapsed_sections": []
    },
    "kernelspec": {
      "name": "python3",
      "display_name": "Python 3"
    },
    "language_info": {
      "name": "python"
    }
  },
  "cells": [
    {
      "cell_type": "markdown",
      "source": [
        "# Outcomes\n",
        "\n",
        "By the end of this notebook, you will be able to...\n",
        "* Manipulate data from simulation to produce new values.\n",
        "* Evaluate the accuracy of a computational model using conservation of energy."
      ],
      "metadata": {
        "id": "zLde3dPpMsEO"
      }
    },
    {
      "cell_type": "markdown",
      "source": [
        "# Adding Energy to the Update Procedure\n",
        "\n",
        "In CIT 2.4, we used the **update procedure** to model the motion of an object moving in two dimensions:\n",
        "\n",
        "1. Set a value for mass and set the **initial conditions** for time, position, and velocity.\n",
        "2. Choose a small step size in time.\n",
        "3. Calculate the net force.\n",
        "4. Update velocity based on force.\n",
        "5. Update position based on velocity.\n",
        "6. Update the time.\n",
        "7. Repeat Steps 3-6 until an ending condition is met.\n",
        "\n",
        "In this notebook, we'll add one more step to be repeated in the loop: Calculate the **kinetic energy and potential energy** (or potential energies) present within the physical system.\n",
        "\n",
        "For example, when we study the motion of a projectile, we are interested in the **kinetic energy** $K$ of the projectile and the **gravitational potential energy** $U_G$ between the projectile and the earth:\n",
        "\\begin{eqnarray}\n",
        "K & = & \\frac{1}{2} m \\left( v_x^2 + v_y^2 \\right) \\\\\n",
        "U_G & = & mgy\n",
        "\\end{eqnarray}\n",
        "\n",
        "These energy values change in each step of the loop (as the velocity and position change), but we expect the **total energy** $E = K + U_G$ to be conserved in the absence of dissipative forces like air resistance.\n",
        "\n",
        "We implement the update procedure in the code cell below. Add code to...\n",
        "* Create lists for the kinetic energy, gravitational potential energy, and total energy.\n",
        "* Calculate the kinetic energy, gravitational potential energy, and total energy in the loop and add each value to the appropriate list.\n",
        "* Graph the kinetic energy, gravitational potential energy, and total energy versus time.\n",
        "\n",
        "Then, answer the following prompts:\n",
        "\n",
        "* Describe the shape of each graph. Does the flatness of the total energy graph give you confidence in the computational model? If not, try decreasing the step size `dt`. How does the graph of total energy change?\n",
        "\n",
        "* How could this process enhance your discussion of conservation of energy in your class?\n",
        "\n",
        "* We always set up the Update Procedure to update velocity first and then position. Swap the order. What happens to the total energy?\n"
      ],
      "metadata": {
        "id": "fP-J6GYRNN8R"
      }
    },
    {
      "cell_type": "code",
      "source": [
        "t  = 0\n",
        "x  = 0\n",
        "y  = 0.001\n",
        "vx = 10\n",
        "vy = 10\n",
        "m  = 1\n",
        "dt = 0.1\n",
        "\n",
        "tList = []\n",
        "xList = []\n",
        "yList = []\n",
        "vxList = []\n",
        "vyList = []\n",
        "\n",
        "\n",
        "\n",
        "\n",
        "while y > 0 :\n",
        "  Fx = 0\n",
        "  Fy = -m*9.8\n",
        "  vx = vx + Fx/m * dt\n",
        "  vy = vy + Fy/m * dt\n",
        "  x = x + vx * dt\n",
        "  y = y + vy * dt\n",
        "  t = t + dt\n",
        "  tList.append(t)\n",
        "  xList.append(x)\n",
        "  yList.append(y)\n",
        "  vxList.append(vx)\n",
        "  vyList.append(vy)\n",
        "\n",
        "\n",
        "\n",
        "\n",
        "\n",
        "\n",
        "import matplotlib.pyplot as plt\n",
        "plt.figure()\n",
        "plt.scatter(tList,xList,label='x')\n",
        "plt.scatter(tList,yList,label='y')\n",
        "plt.legend()\n",
        "\n",
        "plt.figure()\n",
        "plt.scatter(tList,vxList,label='vx')\n",
        "plt.scatter(tList,vyList,label='vy')\n",
        "plt.legend()\n",
        "\n",
        "plt.figure()\n",
        "plt.scatter(xList,yList,label='trajectory')\n",
        "plt.legend()\n",
        "\n",
        "\n",
        "\n",
        "\n",
        "\n"
      ],
      "metadata": {
        "id": "EdIoiiwZdUKI",
        "colab": {
          "base_uri": "https://localhost:8080/",
          "height": 778
        },
        "outputId": "6ddaa816-c43a-4a47-e712-e0f6d35880e4"
      },
      "execution_count": null,
      "outputs": [
        {
          "output_type": "execute_result",
          "data": {
            "text/plain": [
              "<matplotlib.legend.Legend at 0x7f6f8b2ead90>"
            ]
          },
          "metadata": {},
          "execution_count": 6
        },
        {
          "output_type": "display_data",
          "data": {
            "image/png": "[encoded data removed]",
            "text/plain": [
              "<Figure size 432x288 with 1 Axes>"
            ]
          },
          "metadata": {
            "needs_background": "light"
          }
        },
        {
          "output_type": "display_data",
          "data": {
            "image/png": "[encoded data removed]",
            "text/plain": [
              "<Figure size 432x288 with 1 Axes>"
            ]
          },
          "metadata": {
            "needs_background": "light"
          }
        },
        {
          "output_type": "display_data",
          "data": {
            "image/png": "[encoded data removed]",
            "text/plain": [
              "<Figure size 432x288 with 1 Axes>"
            ]
          },
          "metadata": {
            "needs_background": "light"
          }
        }
      ]
    }
  ]
}