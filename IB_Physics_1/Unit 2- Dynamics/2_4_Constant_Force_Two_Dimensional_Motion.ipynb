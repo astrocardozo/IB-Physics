{
  "cells": [
    {
      "cell_type": "markdown",
      "metadata": {
        "id": "zLde3dPpMsEO"
      },
      "source": [
        "# Outcomes\n",
        "\n",
        "By the end of this notebook, you will be able to...\n",
        "* Apply the Euler-Cromer Method in two dimensions.\n",
        "* Describe the role that force plays in determining two-dimensional motion within a model."
      ]
    },
    {
      "cell_type": "markdown",
      "metadata": {
        "id": "fP-J6GYRNN8R"
      },
      "source": [
        "# Expanding to Two Dimensions\n",
        "\n",
        "Last time, we used the **velocity update** `v = v + F/m * dt` and the **position udpate** `x = x + v * dt` to **model** one-dimesional motion under the influence of a constant force. We can find more interesting problems to study by extending this method to **two dimensions**. Working in Cartesian coordinates, this involves promoting our position, velocity, and force to vectors. Mathematically, the update equations become\n",
        "\\begin{eqnarray}\n",
        "\\Delta \\vec{v} & = & \\frac{\\vec{F}}{m} \\Delta t \\\\\n",
        "\\Delta \\vec{r} & = & \\vec{v} \\Delta t.\n",
        "\\end{eqnarray}\n",
        "\n",
        "If we use Cartesian coordinates, these expand into four equations, which look like the original update procedure with additional subscripts:\n",
        "\\begin{eqnarray}\n",
        "\\Delta v_x & = & \\frac{F_x}{m} \\Delta t \\\\\n",
        "\\Delta v_y & = & \\frac{F_y}{m} \\Delta t \\\\\n",
        "\\Delta x & = & v_x \\Delta t \\\\\n",
        "\\Delta y & = & v_y \\Delta t.\n",
        "\\end{eqnarray}\n",
        "\n",
        "This setup emphasizes to students how two-dimensional motion is just an extension of one-dimensional motion. We have more information to keep track of, but the underlying mathematics stay the same.\n",
        "\n",
        "Our two-dimensional Update Procedure that looks like...\n",
        "\n",
        "1. Set a value for `m` and set the **initial conditions** for `t`, `x`, `y`, `vx`, and `vy`.\n",
        "2. Choose a small step size `dt`.\n",
        "3. Calculate the net force's components `Fx` and `Fy`.\n",
        "4. Update velocity components based on force components `vx = vx + Fx/m * dt` and `vy = vy + Fy/m * dt`.\n",
        "5. Update position components based on velocity `x = x + vx * dt` and `y = y + vy * dt`.\n",
        "6. Update the time `t = t + dt`.\n",
        "7. Repeat Steps 3-6 until an ending condition is met.\n",
        "\n",
        "This procedure is set up in the code cell below. Add code to record the values of `t`, `x`, `y`, `vx`, and `vy` in three lists, and to graph $x$ and $y$ versus time, $v_x$ and $v_y$ versus time, and the trajectory $y$ vs. $x$. Set values for the force components to model projectile motion with a constant downward force. Do the graphs look like what you expect?"
      ]
    },
    {
      "cell_type": "code",
      "execution_count": null,
      "metadata": {
        "id": "EdIoiiwZdUKI"
      },
      "outputs": [],
      "source": [
        "t  = 0\n",
        "x  = 0\n",
        "y  = 0.001\n",
        "vx = 1\n",
        "vy = 1\n",
        "m  = 1\n",
        "dt = 0.1\n",
        "\n",
        "\n",
        "\n",
        "\n",
        "\n",
        "\n",
        "\n",
        "while y > 0 :\n",
        "  Fx = ??\n",
        "  Fy = ??\n",
        "  vx = vx + Fx/m * dt\n",
        "  vy = vy + Fy/m * dt\n",
        "  x = x + vx * dt\n",
        "  y = y + vy * dt\n",
        "  t = t + dt\n",
        "\n",
        "\n",
        "\n",
        "\n",
        "\n",
        "\n",
        "\n",
        "  \n",
        "\n"
      ]
    },
    {
      "cell_type": "markdown",
      "metadata": {
        "id": "5Mdm6bMuNQ1E"
      },
      "source": [
        "# What happens next is up to you!\n",
        "The next three notebooks (2.5, 2.6, and 2.7) can be completed in any order, based on what you've learned here. If there's one that particularly piques your interest, start there and devote most of your time and energy to it.\n",
        "\n",
        "* CIT 2.5 is about using Python to create **animations** of the motion we're modeling.\n",
        "* CIT 2.6 is about changing the constant forces above to be **functions of position and velocity**, like the spring force or drag force.\n",
        "* CIT 2.7 is about analyzing the results of our models with **energy**.\n",
        "\n",
        "Then, in CIT 2.8 you'll all of these skills in a project you choose."
      ]
    }
  ],
  "metadata": {
    "colab": {
      "collapsed_sections": [],
      "name": "CIT 2.4 Constant-Force Two-Dimensional Motion.ipynb",
      "provenance": []
    },
    "kernelspec": {
      "display_name": "Python 3",
      "name": "python3"
    },
    "language_info": {
      "name": "python"
    }
  },
  "nbformat": 4,
  "nbformat_minor": 0
}
