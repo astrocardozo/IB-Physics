{
  "nbformat": 4,
  "nbformat_minor": 0,
  "metadata": {
    "colab": {
      "name": "CIT 2.6 Variable-Force Motion.ipynb",
      "provenance": [],
      "collapsed_sections": []
    },
    "kernelspec": {
      "name": "python3",
      "display_name": "Python 3"
    },
    "language_info": {
      "name": "python"
    }
  },
  "cells": [
    {
      "cell_type": "markdown",
      "source": [
        "# Outcomes\n",
        "\n",
        "By the end of this notebook, you will be able to...\n",
        "* Apply the Update Procedure to model a system with variable net force.\n",
        "* Adjust elements of a computational model to explore different systems.\n",
        "* Describe the role that force plays in determining two-dimensional motion within a model."
      ],
      "metadata": {
        "id": "zLde3dPpMsEO"
      }
    },
    {
      "cell_type": "markdown",
      "source": [
        "# Expanding to Variable Forces\n",
        "\n",
        "In CIT 2.4, we used the **update procedure** to model the motion of an object moving in two dimensions:\n",
        "\n",
        "1. Set a value for mass and set the **initial conditions** for time, position, and velocity.\n",
        "2. Choose a small step size in time.\n",
        "3. Calculate the net force.\n",
        "4. Update velocity based on force.\n",
        "5. Update position based on velocity.\n",
        "6. Update the time.\n",
        "7. Repeat Steps 3-6 until an ending condition is met.\n",
        "\n",
        "In this notebook, we'll expand Step 3 to include forces that are **functions of position and/or velocity**. Doing so allows us to explore a limitless set of real-world forces. In this notebook, you'll explore three examples (the spring force, the drag force, and a combination of the two) and then choose two of them to combine in an expanded model.\n",
        "\n",
        "We implement our variable-force update procedure in the code cell below, but **we've left the force calculation blank** for you to fill in as you work through the notebook."
      ],
      "metadata": {
        "id": "fP-J6GYRNN8R"
      }
    },
    {
      "cell_type": "code",
      "source": [
        "t  = 0\n",
        "x  = 1\n",
        "y  = 2\n",
        "vx = 0\n",
        "vy = 0\n",
        "m  = 1\n",
        "dt = 0.1\n",
        "\n",
        "tList = []\n",
        "xList = []\n",
        "yList = []\n",
        "vxList = []\n",
        "vyList = []\n",
        "\n",
        "\n",
        "while t < 10 :\n",
        "  Fx = ??\n",
        "  Fy = ??\n",
        "  vx = vx + Fx/m * dt\n",
        "  vy = vy + Fy/m * dt\n",
        "  x = x + vx * dt\n",
        "  y = y + vy * dt\n",
        "  t = t + dt\n",
        "  tList.append(t)\n",
        "  xList.append(x)\n",
        "  yList.append(y)\n",
        "  vxList.append(vx)\n",
        "  vyList.append(vy)\n",
        "\n",
        "import matplotlib.pyplot as plt\n",
        "plt.figure()\n",
        "plt.scatter(tList,xList,label='x')\n",
        "plt.scatter(tList,yList,label='y')\n",
        "plt.legend()\n",
        "\n",
        "plt.figure()\n",
        "plt.scatter(tList,vxList,label='vx')\n",
        "plt.scatter(tList,vyList,label='vy')\n",
        "plt.legend()\n",
        "\n",
        "plt.figure()\n",
        "plt.scatter(xList,yList,label='trajectory')\n",
        "plt.legend()\n"
      ],
      "metadata": {
        "id": "EdIoiiwZdUKI"
      },
      "execution_count": null,
      "outputs": []
    },
    {
      "cell_type": "markdown",
      "source": [
        "# Spring Force\n",
        "Let's start with a force you're probably already discussing in your physics class: the spring force. In one dimension, this force is just $F = -kx$ along the x-axis or $F = -ky$ along the y-axis. Enter the following combination in the code cell above:\n",
        "\\begin{eqnarray}\n",
        "F_x & = & -kx \\\\\n",
        "F_y & = & 0\n",
        "\\end{eqnarray}\n",
        "with $k = 1$. Run the code cell and describe the resulting graphs.\n",
        "\n",
        "Now change the value of $k$ several times, rerunning the code each time. How do the graphs change?\n",
        "\n",
        "Now change $F_y$ to $-ky$, using the same value of $k$ as you use for $x$. Give different initial values for $x$ and $y$ and for $v_x$ and $v_y$. What physical system does your code model now?\n",
        "\n",
        "Now give $F_x$ and $F_y$ **different** values of $k$. How do the graphs change? (You might want to increase the maximum time in `while t < 10 :`.) Try several different combinations of $k$s.\n",
        "\n",
        "How could this computational model expand your discussion of spring forces and simple harmonic motion in your class?\n",
        "\n",
        "We always set up the Update Procedure to update velocity first and then position. Swap the order. What happens to your graphs? (Swap the order back before proceeding!)"
      ],
      "metadata": {
        "id": "5Mdm6bMuNQ1E"
      }
    },
    {
      "cell_type": "markdown",
      "source": [
        "# Drag Force\n",
        "We often have to tell students to ignore air resistance for the sake of mathematical accessibility, but a computational model removes that restriction since we no longer require an algebraic solution. In each direction, this force is \n",
        "\\begin{eqnarray}\n",
        "F_x & = & -bv_x \\\\\n",
        "F_y & = & -bv_y\n",
        "\\end{eqnarray}\n",
        "Enter this combination of force components in the code cell above, with $b = 1$. Set up the initial conditions with a $v_x$ and $v_y$ of your choice. Run the code cell and describe the resulting graphs. (You might want to increase or decrease the maximum time in `while t < 10 :` to see what happens long-term.)\n",
        "\n",
        "Now change the value of $b$ several times, rerunning the code each time. How do the graphs change?\n",
        "\n",
        "Now add $F_y$ a weight force, so that $F_y = -bv_y - mg$. Adjust the initial values for $x$, $y$, $v_x$, and $v_y$ to model the launching of a projectile. What happens to the graphs as you run the code with different values of $b$?\n",
        "\n",
        "How could this computational model expand your discussion of projectile motion in your class?"
      ],
      "metadata": {
        "id": "pYPsLZLzMyL9"
      }
    },
    {
      "cell_type": "markdown",
      "source": [
        "# A Spring Experiment\n",
        "\n",
        "Now combine all three of these forces: A constant weight pointing down, a spring force (with the same $k$ for both directions), and a drag force. Describe what happens with different combinations of parameters ($g$, $k$, and $b$)."
      ],
      "metadata": {
        "id": "nCISnh75Otvl"
      }
    }
  ]
}